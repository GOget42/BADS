{
 "cells": [
  {
   "cell_type": "code",
   "metadata": {
    "ExecuteTime": {
     "end_time": "2024-12-10T21:23:09.725154Z",
     "start_time": "2024-12-10T21:23:09.708253Z"
    }
   },
   "source": [
    "from sklearn.model_selection import train_test_split\n",
    "from sklearn.preprocessing import StandardScaler, OneHotEncoder\n",
    "from sklearn.compose import ColumnTransformer\n",
    "\n",
    "\n",
    "# standard libraries\n",
    "import pandas as pd\n",
    "import matplotlib.pyplot as plt\n",
    "import numpy as np\n",
    "import seaborn as sns\n",
    "from pandas import DataFrame\n",
    "\n",
    "# different metrics and scoring methods\n",
    "from sklearn.metrics import (\n",
    "    confusion_matrix,\n",
    "    ConfusionMatrixDisplay,\n",
    "    roc_curve,\n",
    "    auc,\n",
    ")\n",
    "from sklearn.metrics import accuracy_score as accuracy\n",
    "from sklearn.metrics import precision_score as precision\n",
    "from sklearn.metrics import recall_score as recall\n",
    "from sklearn.metrics import f1_score as f1\n",
    "from sklearn.metrics import roc_auc_score\n",
    "from sklearn.metrics import make_scorer\n",
    "\n",
    "# import models\n",
    "from sklearn.linear_model import LogisticRegression\n",
    "from sklearn.ensemble import RandomForestClassifier\n",
    "import xgboost as xgb\n",
    "\n",
    "# for hyperparameter tuning\n",
    "from scipy.stats import randint, uniform\n",
    "from sklearn.model_selection import GridSearchCV, StratifiedKFold\n",
    "from sklearn.model_selection import RandomizedSearchCV\n",
    "from skopt import BayesSearchCV\n",
    "from skopt.space import Real, Integer, Categorical\n",
    "\n",
    "from imblearn.over_sampling import SMOTE"
   ],
   "outputs": [],
   "execution_count": 4
  },
  {
   "cell_type": "markdown",
   "metadata": {},
   "source": [
    "# Import Data"
   ]
  },
  {
   "cell_type": "markdown",
   "metadata": {},
   "source": [
    "For Google Drive:"
   ]
  },
  {
   "cell_type": "code",
   "metadata": {},
   "source": [
    "from google.colab import drive\n",
    "drive.mount('/content/drive')\n"
   ],
   "outputs": [],
   "execution_count": null
  },
  {
   "cell_type": "code",
   "metadata": {
    "colab": {
     "base_uri": "https://localhost:8080/",
     "height": 473
    },
    "id": "rMamtkHrAYb4",
    "outputId": "cadab903-ed3d-441b-a946-2a5d50c76d73"
   },
   "source": [
    "# Pfad zur CSV-Datei\n",
    "file_path = '/content/drive/My Drive/final_df.csv'\n",
    "\n",
    "# Datei laden\n",
    "flights = pd.read_csv(file_path)\n",
    "\n",
    "flights"
   ],
   "outputs": [],
   "execution_count": null
  },
  {
   "cell_type": "markdown",
   "metadata": {},
   "source": [
    "From local folder:"
   ]
  },
  {
   "cell_type": "code",
   "metadata": {},
   "source": [
    "file_path = \"/Users/elocher/Business/Project/data/\"\n",
    "\n",
    "flights = pd.read_csv(file_path + \"final_df.csv\")"
   ],
   "outputs": [],
   "execution_count": null
  },
  {
   "metadata": {
    "ExecuteTime": {
     "end_time": "2024-12-10T21:23:40.081962Z",
     "start_time": "2024-12-10T21:23:27.140350Z"
    }
   },
   "cell_type": "code",
   "source": "flights = pd.read_csv('../data/clean/final_df.csv')",
   "outputs": [],
   "execution_count": 5
  },
  {
   "cell_type": "markdown",
   "metadata": {},
   "source": [
    "# 0. Data Inspection"
   ]
  },
  {
   "cell_type": "code",
   "metadata": {
    "id": "CgVPdG74DW8r"
   },
   "source": [
    "ls = []\n",
    "for i in flights.columns:\n",
    "  ls.append(i)"
   ],
   "outputs": [],
   "execution_count": null
  },
  {
   "cell_type": "code",
   "metadata": {
    "colab": {
     "base_uri": "https://localhost:8080/"
    },
    "id": "OL_Jci27DY2T",
    "outputId": "91d3e17e-623d-464a-b93d-fdee96641642"
   },
   "source": [
    "ls"
   ],
   "outputs": [],
   "execution_count": null
  },
  {
   "cell_type": "code",
   "metadata": {
    "colab": {
     "base_uri": "https://localhost:8080/"
    },
    "id": "O0MqEBS4EzwZ",
    "outputId": "f0e63c16-fdc5-439c-b761-da70f8f12661"
   },
   "source": [
    "for el in ls:\n",
    "  print(flights[el])"
   ],
   "outputs": [],
   "execution_count": null
  },
  {
   "cell_type": "markdown",
   "metadata": {},
   "source": [
    "## Discussion with Raphael about Feature selection"
   ]
  },
  {
   "cell_type": "markdown",
   "metadata": {},
   "source": [
    "- Departure Delay und Arrival Delay herausnehmen (da Summe Delayarten = WeatherDelay)\n",
    "- Diverted und Cancelled (bei Regression herausnehmen oder bei Classification: bei Diverted oder Cancelles bei Arrivel_Time_Datetime die Scheduled_Arrival_time hineingetan -> entweder die Arrival Time herausnehmen\n",
    "\n",
    "\n",
    "- Departure_Delay, Arrival_Delay, Elapsed_time, Air_time, Taxi_in, Taxi_out = 0, wenn Diverted oder Cancelled)\n",
    "- Bei Departure_time und Arrival_time wurden Scheduled_Arrival_time und Scheduled_Departure_time hineingetan, falls Diverted oder Cancelled\n",
    "-> Bei Random Forest müsste man zuerst predicten, ob er Cancelled ist oder nicht, wenn nicht Cancelled, dann Delayed oder nicht Delayed. Und falls Delayed, welche Klasse.\n",
    "\n",
    "- Aus Call: Timelaps aus Wetter: bei allen Features dokumentieren, welche dieser Features relevant sind und welche nicht.\n",
    "- In Notebook: lange Codezelle vor \"Missing Data Dummies und Feature Engineering\" bei Merged-Dataset. In Zellen \n",
    "\n",
    "- Sheduled_Time ist in Minuten -> zeigt Differenz zwischen Scheduled_Departure_time und Scheduled_Arrival_time -> unter Berücksichtigung der Zeitdifferenz\n",
    "- Elapsed_time = dasselbe für die Arrival_time und Departure_time, also nicht scheduled.\n",
    "\n",
    "- Taxi_in + Taxi_out + Flight-time = Elapsed_time\n",
    "\n",
    "**In Dataset drinnlassen:**\n",
    "- Airline-Boolean drinnlassen\n",
    "- Airport-Boolean drinnlassen\n",
    "- Alle Weather_data -> dann Feature_importance\n",
    "- Flight-average weather delay -> drinnlassen -> groupby Flight_number und column WeatherDelay mean -> by flight_number gemapped auf Average_weather_delay\n",
    "im Schnitt 100 Flüge aus denen Average entsteht.\n",
    "- Weather beider airports -> Origin und DESTINATION_AIRPORT\n",
    "- Weekend Boolean drinnlassen\n",
    "- (Day of the Week-Dummy, evt.)\n",
    "\n",
    "**Wetterdaten Metrik:**\n",
    "- sped = Windspeed mph\n",
    "- p01m = Presipitation in mm\n",
    "- tempc = airtemp in celsius\n",
    "- visibility in miles"
   ]
  },
  {
   "cell_type": "code",
   "metadata": {
    "ExecuteTime": {
     "end_time": "2024-12-10T21:23:46.815747Z",
     "start_time": "2024-12-10T21:23:46.560240Z"
    }
   },
   "source": [
    "columns_to_drop = ['DEPARTURE_DELAY',\n",
    "                    'TAXI_OUT',\n",
    "                    'SCHEDULED_TIME',\n",
    "                    'ELAPSED_TIME',\n",
    "                    'AIR_TIME',\n",
    "                    'TAXI_IN',\n",
    "                    'ARRIVAL_DELAY',\n",
    "                    'SECURITY_DELAY',\n",
    "                    'LATE_AIRCRAFT_DELAY',\n",
    "                    'SCHEDULED_DEPARTURE_DATETIME',\n",
    "                    'DEPARTURE_TIME_DATETIME',\n",
    "                    'ARRIVAL_TIME_DATETIME',\n",
    "                    'SCHEDULED_ARRIVAL_DATETIME',\n",
    "                    'departure_6hr_before',\n",
    "                    'departure_1hr_before',\n",
    "                    'departure_1hr_after',\n",
    "                    'departure_6hr_after',\n",
    "                    'arrival_6hr_before',\n",
    "                    'arrival_1hr_before',\n",
    "                    'arrival_1hr_after',\n",
    "                    'arrival_6hr_after',\n",
    "                    'CANCELLATION_DESCRIPTION_National Air System',\n",
    "                    'CANCELLATION_DESCRIPTION_Not cancelled',\n",
    "                    'CANCELLATION_DESCRIPTION_Weather',\n",
    "                    'DIVERTED',\n",
    "                    'CANCELLED',\n",
    "                    'AIR_SYSTEM_DELAY',\n",
    "                    'AIRLINE_DELAY']\n",
    "\n",
    "flights = flights.drop(columns=columns_to_drop)"
   ],
   "outputs": [],
   "execution_count": 6
  },
  {
   "cell_type": "code",
   "metadata": {
    "ExecuteTime": {
     "end_time": "2024-12-10T21:23:47.716623Z",
     "start_time": "2024-12-10T21:23:47.626675Z"
    }
   },
   "source": [
    "pd.DataFrame(flights['WEATHER_DELAY'] > 0).value_counts()"
   ],
   "outputs": [
    {
     "data": {
      "text/plain": [
       "WEATHER_DELAY\n",
       "False            453636\n",
       "True               6754\n",
       "Name: count, dtype: int64"
      ]
     },
     "execution_count": 7,
     "metadata": {},
     "output_type": "execute_result"
    }
   ],
   "execution_count": 7
  },
  {
   "cell_type": "markdown",
   "metadata": {},
   "source": [
    "Bei einer binären Klassifizierung von WEATHER_DELAY haben wir es mit einem großen Ungleichgewicht zwischen den beiden Klassen zu tun (453k vs. 6.7k). Wir können eine einfache logistische Regression oder XGBClassification versuchen, um zu sehen, ob wir eine gute Leistung erzielen oder nicht. Wir wählen zweiteres Modell vor dem RandomForest, da wir vor allem aus Assignment 2 und 3 sowie aus \"Fundamentals and Methods of CS\" wissen, dass das Hyperparameter-Tuning bei einem XGBClassifier Modell besser funktioniert."
   ]
  },
  {
   "cell_type": "markdown",
   "metadata": {},
   "source": [
    "## Feature vs. Label und Feature vs. Feature Analyse"
   ]
  },
  {
   "cell_type": "code",
   "metadata": {},
   "source": [
    "import seaborn as sns\n",
    "import matplotlib.pyplot as plt\n",
    "\n",
    "# Alle Spalten außer WEATHER_DELAY identifizieren\n",
    "features = flights.columns.difference(['WEATHER_DELAY'])\n",
    "\n",
    "# Subplots für mehrere Plots\n",
    "num_features = len(features)\n",
    "cols = 4  # Anzahl der Spalten in der Grid-Darstellung\n",
    "rows = (num_features + cols - 1) // cols  # Automatische Berechnung der Zeilen\n",
    "\n",
    "fig, axes = plt.subplots(rows, cols, figsize=(20, rows * 4))\n",
    "axes = axes.flatten()  # Um leichter iterieren zu können\n",
    "\n",
    "for i, feature in enumerate(features):\n",
    "    sns.scatterplot(data=flights, x=feature, y='WEATHER_DELAY', ax=axes[i], alpha=0.5)\n",
    "    axes[i].set_title(f\"{feature} vs WEATHER_DELAY\")\n",
    "    axes[i].grid()\n",
    "\n",
    "# Überschüssige Subplots deaktivieren\n",
    "for j in range(i + 1, len(axes)):\n",
    "    axes[j].set_visible(False)\n",
    "\n",
    "plt.tight_layout()\n",
    "plt.show()\n"
   ],
   "outputs": [],
   "execution_count": null
  },
  {
   "cell_type": "markdown",
   "metadata": {},
   "source": [
    "**Einige Punkte zu obigen Korrelationsplots:**\n",
    "\n",
    "1. Wir sehen, dass wir einige kategoriale Features haben. Manche sind bereits als Boolean formatiert (z.B. die verschiedenen Ablugs- und Ankunftsflughafen). Bei anderen stellt sich die Frage, ob es nicht mehr Sinn machen würde, sie als boolean zu formatieren. Dazu zählt das Feature `visibility (vsby)`, welches jeweils am Ankunfts- und Abflugsflughafen zur Abflugs-/Ankunftszeit, 1h vor- und danach sowie 6h vor- und danach gezeigt wird (dies wurde bei allen Wetterdaten so gemacht). Wir sehen hierbei, dass eine schlechtere `visibility` den `Weather_Delay` tendenziell steigen lässt (höherer Wert bei visibility führt zu höherer wetterbedingten Verspätung). Deswegen macht es Sinn, dieses Feature als numerischen Wert im Dataset zu lassen, damit diese Information nicht verloren geht.\n",
    "2. Beim Feature `Percipitation (p01m)`, Niederschlag, ist zu erkennen, dass mehr Niederschlag nicht zu mehr Verspätung führt, sondern tendenziell bei einer höheren Niederschlagsmenge in mm keine Verspätungen zu sehen sind. Hingegen sehen wir bei extrem viele wetterbedingte Verspätungen, wenn es 0 mm oder nur ganz wenig Niederschlag gibt. Dies entspricht nicht unbedingt unseren Erwartungen, da wir dachten, dass mehr Niederschlag den Flugverkehr behindern könnte. Besonders wenn der Niederschlag mit tiefen Minustemperaturen verbunden ist (also Schneefall).\n",
    "3. Bei der `Windgeschwindigkeit (sped)` in mph sehen wir, dass es doch einige Flüge gibt, die Verspätungen aufzeigen, wenn der Wind blässt. Dennoch ist auch hier zu sehen, dass dieses Feature alleine nicht sehr gut die wetterbedingten Verspätungen erklären kann (bsp. gibt es viele Flüge mit wetterbedingten Verspätungen trotz 0 mph Wind)\n",
    "4. Beim Feature `Temperatur (tmpc)` in Grad Celsius gibt es keinen erkennbaren linearen Zusammenhang zwischen der Temperatur und den wetterbedingten Verspätungen. Die Datenpunkte sind stark gestreut, was auf eine geringe bis gar keine lineare Korrelation hinweist. Auch hier zeigt ein grossteil der Flüge keine wetterbedingte Verspätung (y=0). Dies deutet darauf hin, dass wetterbedingte Verspätungen nicht ausschließlich von der Temperatur abhängen.\n",
    "5. `Durchschnittliche Verspätung pro Flugnummer (Average_Weather_Delay)`: Die meisten Flüge haben sehr niedrige Werte für die durchschnittliche wetterbedingte Verspätung pro Flugnummer (< 10) und die tatsächliche wetterbedingte Verspätung des einzelnen Flugs (y ≈ 0). Dies deutet darauf hin, dass wetterbedingte Verspätungen in der Regel selten auftreten und oft nur in geringer Höhe. Es gibt zudem eine dichte Clusterbildung im Bereich x < 10 und y < 200, was zeigt, dass Flüge mit niedrigen durchschnittlichen wetterbedingten Verspätungen meist ebenfalls niedrige Verspätungen für den einzelnen Flug aufweisen. Für Flüge mit durchschnittlichen wetterbedingten Verspätungen > 20  ist die Streuung der tatsächlichen wetterbedingten Verspätungen grösser (bis zu 1000 Minuten). Dies könnte darauf hinweisen, dass eine höhere durchschnittliche Verspätung pro Flugnummer auch das Risiko für grosse Verspätungen bei einzelnen Flügen erhöht.\n",
    "\n",
    "**Fazit:**\n",
    "Ein Grossteil der Flüge weist keine wetterbedingten Verspätungen auf. Selbst wenn wetterbezogene Faktoren wie Sicht, Wind oder Temperatur in ungünstigen Bereichen liegen, bleibt der Anteil der betroffenen Flüge gering. Viele der analysierten Wettermerkmale (z. B. Niederschlag, Wind, Temperatur) weisen nur schwache oder keine lineare Korrelation mit wetterbedingten Verspätungen auf. Dies deutet darauf hin, dass wetterbedingte Verspätungen durch eine Kombination mehrerer Faktoren entstehen. Das liefert Hinweise darauf, dass wir evt. mit nicht-linearen Modellen bessere Ergebnisse erzielen könnten."
   ]
  },
  {
   "cell_type": "code",
   "metadata": {},
   "source": [
    "import pandas as pd\n",
    "import seaborn as sns\n",
    "import matplotlib.pyplot as plt\n",
    "\n",
    "# Korrelationsmatrix berechnen\n",
    "correlation_matrix = flights.corr()\n",
    "\n",
    "# Heatmap der Korrelationsmatrix erstellen\n",
    "plt.figure(figsize=(12, 10))\n",
    "sns.heatmap(correlation_matrix, annot=False, fmt=\".2f\", cmap=\"coolwarm\", vmin=-1, vmax=1)\n",
    "plt.title(\"Korrelation zwischen Features (inkl. WEATHER_DELAY)\")\n",
    "plt.show()\n"
   ],
   "outputs": [],
   "execution_count": null
  },
  {
   "cell_type": "markdown",
   "metadata": {},
   "source": [
    "**Multikollinearität:**\n",
    "\n",
    "Wir sehen zuerst einmal, dass unsere Timelags bei den Wetterdaten z.T. sehr stark miteinander korrellieren. Dies kann zu Multikollinearität führen. Multikollinearität tritt auf, wenn zwei oder mehr Features in einem Datensatz hoch miteinander korreliert sind. Das bedeutet, dass sie eine sehr ähnliche Information liefern, was die Fähigkeit eines Modells, den Einfluss einzelner Features richtig zu schätzen, beeinträchtigen kann.\n",
    "\n",
    "Bei Modellen wie der **logistischen Regression** oder **linearen Regression** kann Multikollinearität zu Problemen führen, weil sie die Koeffizienteninstabilität verursacht. Dies bedeutet, dass es schwierig wird, den individuellen Einfluss der korrelierten Features auf das Label korrekt zu bewerten. Die Schätzwerte der Regressionskoeffizienten können verzerrt oder hochgradig variabel sein.\n",
    "\n",
    "**Random Forest** und andere **baum-basierte Modelle** sind weniger anfällig für Probleme der Multikollinearität, da diese Modelle nichtlinear und hierarchisch arbeiten. Die Bäume lernen, die wichtigsten Merkmale zu trennen und zu kombinieren, ohne dass sie durch starke Korrelationen zwischen Features stark beeinträchtigt werden.\n",
    "Das bedeutet, dass man sich bei der Verwendung von Modellen wie Random Forest oder Gradient Boosting in der Regel weniger Sorge um Multikollinearität machen muss. Diese Modelle können weiterhin nützliche Muster erkennen, auch wenn einige Features stark miteinander korrelieren."
   ]
  },
  {
   "cell_type": "code",
   "metadata": {},
   "source": [
    "# Nur Features mit signifikanter Korrelation zum Label (z. B. |Korrelation| > 0.01)\n",
    "threshold = 0.01\n",
    "correlation_matrix = flights.corr()\n",
    "\n",
    "# Filter für hohe Korrelation mit WEATHER_DELAY\n",
    "high_corr_features = correlation_matrix.loc[\n",
    "    correlation_matrix['WEATHER_DELAY'].abs() > threshold, \n",
    "    correlation_matrix['WEATHER_DELAY'].abs() > threshold\n",
    "]\n",
    "\n",
    "# Heatmap mit reduzierter Anzahl von Features\n",
    "plt.figure(figsize=(10, 8))\n",
    "sns.heatmap(high_corr_features, annot=True, fmt=\".2f\", cmap=\"coolwarm\", vmin=-1, vmax=1)\n",
    "plt.title(\"Heatmap der Features mit hoher Korrelation zum Label (|r| > 0.01)\")\n",
    "plt.show()\n"
   ],
   "outputs": [],
   "execution_count": null
  },
  {
   "cell_type": "markdown",
   "metadata": {},
   "source": [
    "**Interpretation der höchsten Feature-Label Korrelation:**\n",
    "\n",
    "Ein sehr geringer Korrelationskoeffizient (nahe null) zwischen den meisten Features und dem Ziel (Label). Dies deutet darauf hin, dass viele dieser Features wenig bis gar keinen Einfluss auf das Label haben. Diese irrelevanten Features könnten das Modell unnötig komplex machen und die Rechenleistung erhöhen, ohne eine bessere Leistung zu liefern.\n",
    "\n",
    "Für unsere Modelle bedeutet dies:\n",
    "+ Der **Random Forest** benötigt keine explizite Feature-Auswahl, da er während des Trainings selbst entscheidet, welche Features am nützlichsten sind. Features mit einer geringen Korrelation zu WEATHER_DELAY werden weniger wichtig sein und könnten in den Entscheidungsbäumen weniger häufig ausgewählt werden.\n",
    "Trotzdem könnte es hilfreich sein, die Feature-Auswahl zu optimieren, um die Rechenkosten zu reduzieren und das Modell effizienter zu machen.\n",
    "+ Bei der **logistischen/linearen Regression** sind Features mit sehr geringer Korrelation zu WEATHER_DELAY möglicherweise nicht signifikant und könnten zu einer schlechteren Modellleistung führen, wenn sie im Modell verbleiben. Wir werden hier versuchen, irrelevante Features zu entfernen oder eine L1-Regularisierung (Lasso) zu verwenden, die automatisch weniger wichtige Features eliminiert."
   ]
  },
  {
   "cell_type": "markdown",
   "metadata": {},
   "source": [
    "## Label Analyse"
   ]
  },
  {
   "cell_type": "code",
   "metadata": {},
   "source": [
    "flights['WEATHER_DELAY'].value_counts()"
   ],
   "outputs": [],
   "execution_count": null
  },
  {
   "cell_type": "markdown",
   "metadata": {},
   "source": [
    "Bereits hier sehen wir, dass wir in über 450k der Flüge kein Weather Delay haben. Eine Häufigkeitsverteilung des gesamten Labels macht also nicht viel Sinn (vgl. Plot unten)."
   ]
  },
  {
   "cell_type": "code",
   "metadata": {},
   "source": [
    "import matplotlib.pyplot as plt\n",
    "\n",
    "fig, ax = plt.subplots(figsize=(8, 4))\n",
    "\n",
    "# Draw the histogram\n",
    "ax.hist(flights[\"WEATHER_DELAY\"], bins=1000)\n",
    "\n",
    "# Draw the mean and median lines\n",
    "ymax = 5000  # Maximum of the y-axis\n",
    "ax.vlines([flights[\"WEATHER_DELAY\"].mean()], ymin=0, ymax=ymax, linestyles=\"dashed\", \n",
    "          colors=[\"red\"], label=\"Mean\")\n",
    "ax.vlines([flights[\"WEATHER_DELAY\"].median()], ymin=0, ymax=ymax, linestyles=\"dashed\",\n",
    "            colors=[\"green\"], label=\"Median\")\n",
    "\n",
    "# Draw 0.25, 0.75 quantiles\n",
    "ax.vlines([flights[\"WEATHER_DELAY\"].quantile(0.25), flights[\"WEATHER_DELAY\"].quantile(0.75)], ymin=0, ymax=ymax,\n",
    "            linestyles=\"dashed\", colors=[\"orange\", \"orange\"], label=\"Quantiles (0.25, 0.75)\")\n",
    "\n",
    "# Set the x-axis limit\n",
    "ax.set_xlim(0, 20)  # Limit the x-axis from 0 to 100\n",
    "\n",
    "# Add the legend\n",
    "ax.legend()\n",
    "\n",
    "# Set labels and title\n",
    "ax.set_xlabel(\"WEATHER_DELAY\")\n",
    "ax.set_ylabel(\"Frequency\")\n",
    "ax.set_title(\"Weather Delay Histogram\")\n",
    "\n",
    "# Show the plot\n",
    "plt.show()\n",
    "\n",
    "# Display descriptive statistics of WEATHER_DELAY\n",
    "flights[\"WEATHER_DELAY\"].describe()\n"
   ],
   "outputs": [],
   "execution_count": null
  },
  {
   "cell_type": "markdown",
   "metadata": {},
   "source": [
    "Deswegen plotten wir nun eine Verteilung aller wetterbedingten Flugverspätungen (dh. WEATHER_DELAY > 0)."
   ]
  },
  {
   "cell_type": "code",
   "metadata": {},
   "source": [
    "import matplotlib.pyplot as plt\n",
    "\n",
    "# Filtere nur die Werte größer als 0 für die Anzeige\n",
    "weather_delay_nonzero = flights[flights[\"WEATHER_DELAY\"] > 0][\"WEATHER_DELAY\"]\n",
    "\n",
    "fig, ax = plt.subplots(figsize=(8, 4))\n",
    "\n",
    "# Zeichne das Histogramm nur für Werte > 0\n",
    "ax.hist(weather_delay_nonzero, bins=100, color='blue', alpha=0.7)\n",
    "\n",
    "# Berechne den maximalen Wert der Y-Achse\n",
    "ymax = 5000  # Du kannst das ymax weiter anpassen\n",
    "\n",
    "# Zeichne die Mittelwert- und Median-Linien\n",
    "ax.vlines([weather_delay_nonzero.mean()], ymin=0, ymax=ymax, linestyles=\"dashed\", \n",
    "          colors=[\"red\"], label=\"Mean\")\n",
    "ax.vlines([weather_delay_nonzero.median()], ymin=0, ymax=ymax, linestyles=\"dashed\",\n",
    "            colors=[\"green\"], label=\"Median\")\n",
    "\n",
    "# Zeichne die 0.25 und 0.75 Quantile\n",
    "ax.vlines([weather_delay_nonzero.quantile(0.25), weather_delay_nonzero.quantile(0.75)], ymin=0, ymax=ymax,\n",
    "            linestyles=\"dashed\", colors=[\"orange\", \"orange\"], label=\"Quantiles (0.25, 0.75)\")\n",
    "\n",
    "# Setze das x-Achsenlimit (nur für Werte größer als 0)\n",
    "ax.set_xlim(0, 200)  # Limit der x-Achse\n",
    "\n",
    "# Füge die Legende hinzu\n",
    "ax.legend()\n",
    "\n",
    "# Setze Beschriftungen und Titel\n",
    "ax.set_xlabel(\"WEATHER_DELAY\")\n",
    "ax.set_ylabel(\"Frequency\")\n",
    "ax.set_title(\"Weather Delay Histogram (without 0)\")\n",
    "\n",
    "# Zeige den Plot\n",
    "plt.show()\n",
    "\n",
    "# Zeige deskriptive Statistiken der WEATHER_DELAY Spalte\n",
    "weather_delay_nonzero.describe()\n"
   ],
   "outputs": [],
   "execution_count": null
  },
  {
   "cell_type": "markdown",
   "metadata": {},
   "source": [
    "An diesem Punkt haben wir uns gefragt, ob es Sinn macht, mit einem solchen Dataset weiterzuarbeiten. Eine Regression für die wetterbedingten Verspätungen würde durch das oben gesehene Ungleichgewicht der Datenverteilung komplett verzerrt werden. Da wir jedoch an unserem Use-Case festhalten wollten, kamen wir auf folgende Idee:\n",
    "\n",
    "1. Binäres Klassifikationsmodell für wetterbedingte Verspätung: Sagt vorher, ob eine Verspätung auftritt oder nicht (binäre Klassifikation: 0 oder >0).\n",
    "2. Regressionsmodell für wetterbedingte Verspätungen: Falls eine Wetterbedingte Verspätung vorhergesagt wurde, wird eine Regression durchgeführt, die vorhersagt, wie gross diese Verspätung sein wird.\n"
   ]
  },
  {
   "cell_type": "markdown",
   "metadata": {},
   "source": [
    "# 1. Binäre Klassifikation"
   ]
  },
  {
   "cell_type": "code",
   "metadata": {
    "ExecuteTime": {
     "end_time": "2024-12-10T21:30:20.561870Z",
     "start_time": "2024-12-10T21:30:20.294854Z"
    }
   },
   "source": [
    "X = flights.drop(columns=[\"WEATHER_DELAY\"])\n",
    "y = flights[\"WEATHER_DELAY\"]"
   ],
   "outputs": [],
   "execution_count": 28
  },
  {
   "cell_type": "code",
   "metadata": {
    "ExecuteTime": {
     "end_time": "2024-12-10T21:30:20.697575Z",
     "start_time": "2024-12-10T21:30:20.577512Z"
    }
   },
   "source": [
    "X"
   ],
   "outputs": [
    {
     "data": {
      "text/plain": [
       "        DISTANCE  SCHEDULED_DEPARTURE_DATETIME_tmpc  \\\n",
       "0            731                              13.33   \n",
       "1            762                              13.89   \n",
       "2            689                              13.33   \n",
       "3           2139                               7.22   \n",
       "4            762                               7.22   \n",
       "...          ...                                ...   \n",
       "460385      2139                               8.33   \n",
       "460386       414                               8.33   \n",
       "460387      1846                               8.33   \n",
       "460388      2139                               8.33   \n",
       "460389      1635                               8.33   \n",
       "\n",
       "        SCHEDULED_DEPARTURE_DATETIME_sped  SCHEDULED_DEPARTURE_DATETIME_p01m  \\\n",
       "0                                    4.60                               0.00   \n",
       "1                                    3.45                               0.00   \n",
       "2                                    3.45                               0.00   \n",
       "3                                    4.60                               0.25   \n",
       "4                                    3.45                               1.27   \n",
       "...                                   ...                                ...   \n",
       "460385                               6.90                               0.00   \n",
       "460386                               6.90                               0.00   \n",
       "460387                               6.90                               0.00   \n",
       "460388                               6.90                               0.00   \n",
       "460389                               6.90                               0.00   \n",
       "\n",
       "        SCHEDULED_DEPARTURE_DATETIME_vsby  departure_6hr_before_tmpc  \\\n",
       "0                                    10.0                       0.00   \n",
       "1                                    10.0                       2.78   \n",
       "2                                    10.0                       6.11   \n",
       "3                                    10.0                      13.33   \n",
       "4                                     8.0                       6.67   \n",
       "...                                   ...                        ...   \n",
       "460385                               10.0                       8.33   \n",
       "460386                               10.0                       8.33   \n",
       "460387                               10.0                       8.33   \n",
       "460388                               10.0                       8.33   \n",
       "460389                               10.0                       8.33   \n",
       "\n",
       "        departure_6hr_before_sped  departure_6hr_before_p01m  \\\n",
       "0                            0.00                     0.0000   \n",
       "1                            0.00                     0.0000   \n",
       "2                            0.00                     0.0000   \n",
       "3                            3.45                     0.0000   \n",
       "4                            0.00                     0.0001   \n",
       "...                           ...                        ...   \n",
       "460385                       6.90                     0.0000   \n",
       "460386                       6.90                     0.0000   \n",
       "460387                       6.90                     0.0000   \n",
       "460388                       6.90                     0.0000   \n",
       "460389                       6.90                     0.0000   \n",
       "\n",
       "        departure_6hr_before_vsby  departure_1hr_before_tmpc  ...  \\\n",
       "0                            10.0                      11.67  ...   \n",
       "1                            10.0                      13.33  ...   \n",
       "2                            10.0                      13.89  ...   \n",
       "3                            10.0                       8.33  ...   \n",
       "4                            10.0                       7.22  ...   \n",
       "...                           ...                        ...  ...   \n",
       "460385                       10.0                       8.33  ...   \n",
       "460386                       10.0                       8.33  ...   \n",
       "460387                       10.0                       8.33  ...   \n",
       "460388                       10.0                       8.33  ...   \n",
       "460389                       10.0                       8.33  ...   \n",
       "\n",
       "        Destination_AIRPORT_Dallas/Fort Worth International Airport  \\\n",
       "0                                                    True             \n",
       "1                                                   False             \n",
       "2                                                   False             \n",
       "3                                                   False             \n",
       "4                                                   False             \n",
       "...                                                   ...             \n",
       "460385                                              False             \n",
       "460386                                              False             \n",
       "460387                                              False             \n",
       "460388                                              False             \n",
       "460389                                              False             \n",
       "\n",
       "        Destination_AIRPORT_Denver International Airport  \\\n",
       "0                                                  False   \n",
       "1                                                  False   \n",
       "2                                                  False   \n",
       "3                                                  False   \n",
       "4                                                  False   \n",
       "...                                                  ...   \n",
       "460385                                             False   \n",
       "460386                                             False   \n",
       "460387                                             False   \n",
       "460388                                             False   \n",
       "460389                                             False   \n",
       "\n",
       "        Destination_AIRPORT_George Bush Intercontinental Airport  \\\n",
       "0                                                   False          \n",
       "1                                                   False          \n",
       "2                                                    True          \n",
       "3                                                   False          \n",
       "4                                                   False          \n",
       "...                                                   ...          \n",
       "460385                                              False          \n",
       "460386                                              False          \n",
       "460387                                              False          \n",
       "460388                                              False          \n",
       "460389                                               True          \n",
       "\n",
       "        Destination_AIRPORT_Hartsfield-Jackson Atlanta International Airport  \\\n",
       "0                                                   False                      \n",
       "1                                                   False                      \n",
       "2                                                   False                      \n",
       "3                                                   False                      \n",
       "4                                                   False                      \n",
       "...                                                   ...                      \n",
       "460385                                               True                      \n",
       "460386                                              False                      \n",
       "460387                                              False                      \n",
       "460388                                               True                      \n",
       "460389                                              False                      \n",
       "\n",
       "        Destination_AIRPORT_LaGuardia Airport (Marine Air Terminal)  \\\n",
       "0                                                   False             \n",
       "1                                                    True             \n",
       "2                                                   False             \n",
       "3                                                   False             \n",
       "4                                                    True             \n",
       "...                                                   ...             \n",
       "460385                                              False             \n",
       "460386                                              False             \n",
       "460387                                              False             \n",
       "460388                                              False             \n",
       "460389                                              False             \n",
       "\n",
       "        Destination_AIRPORT_Los Angeles International Airport  \\\n",
       "0                                                   False       \n",
       "1                                                   False       \n",
       "2                                                   False       \n",
       "3                                                   False       \n",
       "4                                                   False       \n",
       "...                                                   ...       \n",
       "460385                                              False       \n",
       "460386                                              False       \n",
       "460387                                              False       \n",
       "460388                                              False       \n",
       "460389                                              False       \n",
       "\n",
       "        Destination_AIRPORT_McCarran International Airport  \\\n",
       "0                                                   False    \n",
       "1                                                   False    \n",
       "2                                                   False    \n",
       "3                                                   False    \n",
       "4                                                   False    \n",
       "...                                                   ...    \n",
       "460385                                              False    \n",
       "460386                                               True    \n",
       "460387                                              False    \n",
       "460388                                              False    \n",
       "460389                                              False    \n",
       "\n",
       "        Destination_AIRPORT_Phoenix Sky Harbor International Airport  \\\n",
       "0                                                   False              \n",
       "1                                                   False              \n",
       "2                                                   False              \n",
       "3                                                   False              \n",
       "4                                                   False              \n",
       "...                                                   ...              \n",
       "460385                                              False              \n",
       "460386                                              False              \n",
       "460387                                              False              \n",
       "460388                                              False              \n",
       "460389                                              False              \n",
       "\n",
       "        Destination_AIRPORT_San Francisco International Airport  WEEKEND  \n",
       "0                                                   False              0  \n",
       "1                                                   False              0  \n",
       "2                                                   False              0  \n",
       "3                                                    True              0  \n",
       "4                                                   False              0  \n",
       "...                                                   ...            ...  \n",
       "460385                                              False              0  \n",
       "460386                                              False              0  \n",
       "460387                                              False              0  \n",
       "460388                                              False              0  \n",
       "460389                                              False              0  \n",
       "\n",
       "[460390 rows x 71 columns]"
      ],
      "text/html": [
       "<div>\n",
       "<style scoped>\n",
       "    .dataframe tbody tr th:only-of-type {\n",
       "        vertical-align: middle;\n",
       "    }\n",
       "\n",
       "    .dataframe tbody tr th {\n",
       "        vertical-align: top;\n",
       "    }\n",
       "\n",
       "    .dataframe thead th {\n",
       "        text-align: right;\n",
       "    }\n",
       "</style>\n",
       "<table border=\"1\" class=\"dataframe\">\n",
       "  <thead>\n",
       "    <tr style=\"text-align: right;\">\n",
       "      <th></th>\n",
       "      <th>DISTANCE</th>\n",
       "      <th>SCHEDULED_DEPARTURE_DATETIME_tmpc</th>\n",
       "      <th>SCHEDULED_DEPARTURE_DATETIME_sped</th>\n",
       "      <th>SCHEDULED_DEPARTURE_DATETIME_p01m</th>\n",
       "      <th>SCHEDULED_DEPARTURE_DATETIME_vsby</th>\n",
       "      <th>departure_6hr_before_tmpc</th>\n",
       "      <th>departure_6hr_before_sped</th>\n",
       "      <th>departure_6hr_before_p01m</th>\n",
       "      <th>departure_6hr_before_vsby</th>\n",
       "      <th>departure_1hr_before_tmpc</th>\n",
       "      <th>...</th>\n",
       "      <th>Destination_AIRPORT_Dallas/Fort Worth International Airport</th>\n",
       "      <th>Destination_AIRPORT_Denver International Airport</th>\n",
       "      <th>Destination_AIRPORT_George Bush Intercontinental Airport</th>\n",
       "      <th>Destination_AIRPORT_Hartsfield-Jackson Atlanta International Airport</th>\n",
       "      <th>Destination_AIRPORT_LaGuardia Airport (Marine Air Terminal)</th>\n",
       "      <th>Destination_AIRPORT_Los Angeles International Airport</th>\n",
       "      <th>Destination_AIRPORT_McCarran International Airport</th>\n",
       "      <th>Destination_AIRPORT_Phoenix Sky Harbor International Airport</th>\n",
       "      <th>Destination_AIRPORT_San Francisco International Airport</th>\n",
       "      <th>WEEKEND</th>\n",
       "    </tr>\n",
       "  </thead>\n",
       "  <tbody>\n",
       "    <tr>\n",
       "      <th>0</th>\n",
       "      <td>731</td>\n",
       "      <td>13.33</td>\n",
       "      <td>4.60</td>\n",
       "      <td>0.00</td>\n",
       "      <td>10.0</td>\n",
       "      <td>0.00</td>\n",
       "      <td>0.00</td>\n",
       "      <td>0.0000</td>\n",
       "      <td>10.0</td>\n",
       "      <td>11.67</td>\n",
       "      <td>...</td>\n",
       "      <td>True</td>\n",
       "      <td>False</td>\n",
       "      <td>False</td>\n",
       "      <td>False</td>\n",
       "      <td>False</td>\n",
       "      <td>False</td>\n",
       "      <td>False</td>\n",
       "      <td>False</td>\n",
       "      <td>False</td>\n",
       "      <td>0</td>\n",
       "    </tr>\n",
       "    <tr>\n",
       "      <th>1</th>\n",
       "      <td>762</td>\n",
       "      <td>13.89</td>\n",
       "      <td>3.45</td>\n",
       "      <td>0.00</td>\n",
       "      <td>10.0</td>\n",
       "      <td>2.78</td>\n",
       "      <td>0.00</td>\n",
       "      <td>0.0000</td>\n",
       "      <td>10.0</td>\n",
       "      <td>13.33</td>\n",
       "      <td>...</td>\n",
       "      <td>False</td>\n",
       "      <td>False</td>\n",
       "      <td>False</td>\n",
       "      <td>False</td>\n",
       "      <td>True</td>\n",
       "      <td>False</td>\n",
       "      <td>False</td>\n",
       "      <td>False</td>\n",
       "      <td>False</td>\n",
       "      <td>0</td>\n",
       "    </tr>\n",
       "    <tr>\n",
       "      <th>2</th>\n",
       "      <td>689</td>\n",
       "      <td>13.33</td>\n",
       "      <td>3.45</td>\n",
       "      <td>0.00</td>\n",
       "      <td>10.0</td>\n",
       "      <td>6.11</td>\n",
       "      <td>0.00</td>\n",
       "      <td>0.0000</td>\n",
       "      <td>10.0</td>\n",
       "      <td>13.89</td>\n",
       "      <td>...</td>\n",
       "      <td>False</td>\n",
       "      <td>False</td>\n",
       "      <td>True</td>\n",
       "      <td>False</td>\n",
       "      <td>False</td>\n",
       "      <td>False</td>\n",
       "      <td>False</td>\n",
       "      <td>False</td>\n",
       "      <td>False</td>\n",
       "      <td>0</td>\n",
       "    </tr>\n",
       "    <tr>\n",
       "      <th>3</th>\n",
       "      <td>2139</td>\n",
       "      <td>7.22</td>\n",
       "      <td>4.60</td>\n",
       "      <td>0.25</td>\n",
       "      <td>10.0</td>\n",
       "      <td>13.33</td>\n",
       "      <td>3.45</td>\n",
       "      <td>0.0000</td>\n",
       "      <td>10.0</td>\n",
       "      <td>8.33</td>\n",
       "      <td>...</td>\n",
       "      <td>False</td>\n",
       "      <td>False</td>\n",
       "      <td>False</td>\n",
       "      <td>False</td>\n",
       "      <td>False</td>\n",
       "      <td>False</td>\n",
       "      <td>False</td>\n",
       "      <td>False</td>\n",
       "      <td>True</td>\n",
       "      <td>0</td>\n",
       "    </tr>\n",
       "    <tr>\n",
       "      <th>4</th>\n",
       "      <td>762</td>\n",
       "      <td>7.22</td>\n",
       "      <td>3.45</td>\n",
       "      <td>1.27</td>\n",
       "      <td>8.0</td>\n",
       "      <td>6.67</td>\n",
       "      <td>0.00</td>\n",
       "      <td>0.0001</td>\n",
       "      <td>10.0</td>\n",
       "      <td>7.22</td>\n",
       "      <td>...</td>\n",
       "      <td>False</td>\n",
       "      <td>False</td>\n",
       "      <td>False</td>\n",
       "      <td>False</td>\n",
       "      <td>True</td>\n",
       "      <td>False</td>\n",
       "      <td>False</td>\n",
       "      <td>False</td>\n",
       "      <td>False</td>\n",
       "      <td>0</td>\n",
       "    </tr>\n",
       "    <tr>\n",
       "      <th>...</th>\n",
       "      <td>...</td>\n",
       "      <td>...</td>\n",
       "      <td>...</td>\n",
       "      <td>...</td>\n",
       "      <td>...</td>\n",
       "      <td>...</td>\n",
       "      <td>...</td>\n",
       "      <td>...</td>\n",
       "      <td>...</td>\n",
       "      <td>...</td>\n",
       "      <td>...</td>\n",
       "      <td>...</td>\n",
       "      <td>...</td>\n",
       "      <td>...</td>\n",
       "      <td>...</td>\n",
       "      <td>...</td>\n",
       "      <td>...</td>\n",
       "      <td>...</td>\n",
       "      <td>...</td>\n",
       "      <td>...</td>\n",
       "      <td>...</td>\n",
       "    </tr>\n",
       "    <tr>\n",
       "      <th>460385</th>\n",
       "      <td>2139</td>\n",
       "      <td>8.33</td>\n",
       "      <td>6.90</td>\n",
       "      <td>0.00</td>\n",
       "      <td>10.0</td>\n",
       "      <td>8.33</td>\n",
       "      <td>6.90</td>\n",
       "      <td>0.0000</td>\n",
       "      <td>10.0</td>\n",
       "      <td>8.33</td>\n",
       "      <td>...</td>\n",
       "      <td>False</td>\n",
       "      <td>False</td>\n",
       "      <td>False</td>\n",
       "      <td>True</td>\n",
       "      <td>False</td>\n",
       "      <td>False</td>\n",
       "      <td>False</td>\n",
       "      <td>False</td>\n",
       "      <td>False</td>\n",
       "      <td>0</td>\n",
       "    </tr>\n",
       "    <tr>\n",
       "      <th>460386</th>\n",
       "      <td>414</td>\n",
       "      <td>8.33</td>\n",
       "      <td>6.90</td>\n",
       "      <td>0.00</td>\n",
       "      <td>10.0</td>\n",
       "      <td>8.33</td>\n",
       "      <td>6.90</td>\n",
       "      <td>0.0000</td>\n",
       "      <td>10.0</td>\n",
       "      <td>8.33</td>\n",
       "      <td>...</td>\n",
       "      <td>False</td>\n",
       "      <td>False</td>\n",
       "      <td>False</td>\n",
       "      <td>False</td>\n",
       "      <td>False</td>\n",
       "      <td>False</td>\n",
       "      <td>True</td>\n",
       "      <td>False</td>\n",
       "      <td>False</td>\n",
       "      <td>0</td>\n",
       "    </tr>\n",
       "    <tr>\n",
       "      <th>460387</th>\n",
       "      <td>1846</td>\n",
       "      <td>8.33</td>\n",
       "      <td>6.90</td>\n",
       "      <td>0.00</td>\n",
       "      <td>10.0</td>\n",
       "      <td>8.33</td>\n",
       "      <td>6.90</td>\n",
       "      <td>0.0000</td>\n",
       "      <td>10.0</td>\n",
       "      <td>8.33</td>\n",
       "      <td>...</td>\n",
       "      <td>False</td>\n",
       "      <td>False</td>\n",
       "      <td>False</td>\n",
       "      <td>False</td>\n",
       "      <td>False</td>\n",
       "      <td>False</td>\n",
       "      <td>False</td>\n",
       "      <td>False</td>\n",
       "      <td>False</td>\n",
       "      <td>0</td>\n",
       "    </tr>\n",
       "    <tr>\n",
       "      <th>460388</th>\n",
       "      <td>2139</td>\n",
       "      <td>8.33</td>\n",
       "      <td>6.90</td>\n",
       "      <td>0.00</td>\n",
       "      <td>10.0</td>\n",
       "      <td>8.33</td>\n",
       "      <td>6.90</td>\n",
       "      <td>0.0000</td>\n",
       "      <td>10.0</td>\n",
       "      <td>8.33</td>\n",
       "      <td>...</td>\n",
       "      <td>False</td>\n",
       "      <td>False</td>\n",
       "      <td>False</td>\n",
       "      <td>True</td>\n",
       "      <td>False</td>\n",
       "      <td>False</td>\n",
       "      <td>False</td>\n",
       "      <td>False</td>\n",
       "      <td>False</td>\n",
       "      <td>0</td>\n",
       "    </tr>\n",
       "    <tr>\n",
       "      <th>460389</th>\n",
       "      <td>1635</td>\n",
       "      <td>8.33</td>\n",
       "      <td>6.90</td>\n",
       "      <td>0.00</td>\n",
       "      <td>10.0</td>\n",
       "      <td>8.33</td>\n",
       "      <td>6.90</td>\n",
       "      <td>0.0000</td>\n",
       "      <td>10.0</td>\n",
       "      <td>8.33</td>\n",
       "      <td>...</td>\n",
       "      <td>False</td>\n",
       "      <td>False</td>\n",
       "      <td>True</td>\n",
       "      <td>False</td>\n",
       "      <td>False</td>\n",
       "      <td>False</td>\n",
       "      <td>False</td>\n",
       "      <td>False</td>\n",
       "      <td>False</td>\n",
       "      <td>0</td>\n",
       "    </tr>\n",
       "  </tbody>\n",
       "</table>\n",
       "<p>460390 rows × 71 columns</p>\n",
       "</div>"
      ]
     },
     "execution_count": 29,
     "metadata": {},
     "output_type": "execute_result"
    }
   ],
   "execution_count": 29
  },
  {
   "cell_type": "code",
   "metadata": {
    "ExecuteTime": {
     "end_time": "2024-12-10T21:30:21.607103Z",
     "start_time": "2024-12-10T21:30:21.517149Z"
    }
   },
   "source": [
    "y = y.apply(lambda x: 0.0 if x == 0 else 1.0)"
   ],
   "outputs": [],
   "execution_count": 30
  },
  {
   "cell_type": "code",
   "metadata": {
    "ExecuteTime": {
     "end_time": "2024-12-10T21:30:21.697491Z",
     "start_time": "2024-12-10T21:30:21.681334Z"
    }
   },
   "source": [
    "y.value_counts()"
   ],
   "outputs": [
    {
     "data": {
      "text/plain": [
       "WEATHER_DELAY\n",
       "0.0    453636\n",
       "1.0      6754\n",
       "Name: count, dtype: int64"
      ]
     },
     "execution_count": 31,
     "metadata": {},
     "output_type": "execute_result"
    }
   ],
   "execution_count": 31
  },
  {
   "cell_type": "code",
   "metadata": {
    "ExecuteTime": {
     "end_time": "2024-12-10T21:30:21.882319Z",
     "start_time": "2024-12-10T21:30:21.793126Z"
    }
   },
   "source": [
    "X.info()"
   ],
   "outputs": [
    {
     "name": "stdout",
     "output_type": "stream",
     "text": [
      "<class 'pandas.core.frame.DataFrame'>\n",
      "RangeIndex: 460390 entries, 0 to 460389\n",
      "Data columns (total 71 columns):\n",
      " #   Column                                                                Non-Null Count   Dtype  \n",
      "---  ------                                                                --------------   -----  \n",
      " 0   DISTANCE                                                              460390 non-null  int64  \n",
      " 1   SCHEDULED_DEPARTURE_DATETIME_tmpc                                     460390 non-null  float64\n",
      " 2   SCHEDULED_DEPARTURE_DATETIME_sped                                     460390 non-null  float64\n",
      " 3   SCHEDULED_DEPARTURE_DATETIME_p01m                                     460390 non-null  float64\n",
      " 4   SCHEDULED_DEPARTURE_DATETIME_vsby                                     460390 non-null  float64\n",
      " 5   departure_6hr_before_tmpc                                             460390 non-null  float64\n",
      " 6   departure_6hr_before_sped                                             460390 non-null  float64\n",
      " 7   departure_6hr_before_p01m                                             460390 non-null  float64\n",
      " 8   departure_6hr_before_vsby                                             460390 non-null  float64\n",
      " 9   departure_1hr_before_tmpc                                             460390 non-null  float64\n",
      " 10  departure_1hr_before_sped                                             460390 non-null  float64\n",
      " 11  departure_1hr_before_p01m                                             460390 non-null  float64\n",
      " 12  departure_1hr_before_vsby                                             460390 non-null  float64\n",
      " 13  departure_1hr_after_tmpc                                              460390 non-null  float64\n",
      " 14  departure_1hr_after_sped                                              460390 non-null  float64\n",
      " 15  departure_1hr_after_p01m                                              460390 non-null  float64\n",
      " 16  departure_1hr_after_vsby                                              460390 non-null  float64\n",
      " 17  departure_6hr_after_tmpc                                              460390 non-null  float64\n",
      " 18  departure_6hr_after_sped                                              460390 non-null  float64\n",
      " 19  departure_6hr_after_p01m                                              460390 non-null  float64\n",
      " 20  departure_6hr_after_vsby                                              460390 non-null  float64\n",
      " 21  SCHEDULED_ARRIVAL_DATETIME_tmpc                                       460390 non-null  float64\n",
      " 22  SCHEDULED_ARRIVAL_DATETIME_sped                                       460390 non-null  float64\n",
      " 23  SCHEDULED_ARRIVAL_DATETIME_p01m                                       460390 non-null  float64\n",
      " 24  SCHEDULED_ARRIVAL_DATETIME_vsby                                       460390 non-null  float64\n",
      " 25  arrival_6hr_before_tmpc                                               460390 non-null  float64\n",
      " 26  arrival_6hr_before_sped                                               460390 non-null  float64\n",
      " 27  arrival_6hr_before_p01m                                               460390 non-null  float64\n",
      " 28  arrival_6hr_before_vsby                                               460390 non-null  float64\n",
      " 29  arrival_1hr_before_tmpc                                               460390 non-null  float64\n",
      " 30  arrival_1hr_before_sped                                               460390 non-null  float64\n",
      " 31  arrival_1hr_before_p01m                                               460390 non-null  float64\n",
      " 32  arrival_1hr_before_vsby                                               460390 non-null  float64\n",
      " 33  arrival_1hr_after_tmpc                                                460390 non-null  float64\n",
      " 34  arrival_1hr_after_sped                                                460390 non-null  float64\n",
      " 35  arrival_1hr_after_p01m                                                460390 non-null  float64\n",
      " 36  arrival_1hr_after_vsby                                                460390 non-null  float64\n",
      " 37  arrival_6hr_after_tmpc                                                460390 non-null  float64\n",
      " 38  arrival_6hr_after_sped                                                460390 non-null  float64\n",
      " 39  arrival_6hr_after_p01m                                                460390 non-null  float64\n",
      " 40  arrival_6hr_after_vsby                                                460390 non-null  float64\n",
      " 41  AIRLINE_American Eagle Airlines Inc.                                  460390 non-null  bool   \n",
      " 42  AIRLINE_Atlantic Southeast Airlines                                   460390 non-null  bool   \n",
      " 43  AIRLINE_Delta Air Lines Inc.                                          460390 non-null  bool   \n",
      " 44  AIRLINE_Frontier Airlines Inc.                                        460390 non-null  bool   \n",
      " 45  AIRLINE_JetBlue Airways                                               460390 non-null  bool   \n",
      " 46  AIRLINE_Skywest Airlines Inc.                                         460390 non-null  bool   \n",
      " 47  AIRLINE_Southwest Airlines Co.                                        460390 non-null  bool   \n",
      " 48  AIRLINE_Spirit Air Lines                                              460390 non-null  bool   \n",
      " 49  AIRLINE_US Airways Inc.                                               460390 non-null  bool   \n",
      " 50  AIRLINE_United Air Lines Inc.                                         460390 non-null  bool   \n",
      " 51  AIRLINE_Virgin America                                                460390 non-null  bool   \n",
      " 52  Origin_AIRPORT_Dallas/Fort Worth International Airport                460390 non-null  bool   \n",
      " 53  Origin_AIRPORT_Denver International Airport                           460390 non-null  bool   \n",
      " 54  Origin_AIRPORT_George Bush Intercontinental Airport                   460390 non-null  bool   \n",
      " 55  Origin_AIRPORT_Hartsfield-Jackson Atlanta International Airport       460390 non-null  bool   \n",
      " 56  Origin_AIRPORT_LaGuardia Airport (Marine Air Terminal)                460390 non-null  bool   \n",
      " 57  Origin_AIRPORT_Los Angeles International Airport                      460390 non-null  bool   \n",
      " 58  Origin_AIRPORT_McCarran International Airport                         460390 non-null  bool   \n",
      " 59  Origin_AIRPORT_Phoenix Sky Harbor International Airport               460390 non-null  bool   \n",
      " 60  Origin_AIRPORT_San Francisco International Airport                    460390 non-null  bool   \n",
      " 61  Destination_AIRPORT_Dallas/Fort Worth International Airport           460390 non-null  bool   \n",
      " 62  Destination_AIRPORT_Denver International Airport                      460390 non-null  bool   \n",
      " 63  Destination_AIRPORT_George Bush Intercontinental Airport              460390 non-null  bool   \n",
      " 64  Destination_AIRPORT_Hartsfield-Jackson Atlanta International Airport  460390 non-null  bool   \n",
      " 65  Destination_AIRPORT_LaGuardia Airport (Marine Air Terminal)           460390 non-null  bool   \n",
      " 66  Destination_AIRPORT_Los Angeles International Airport                 460390 non-null  bool   \n",
      " 67  Destination_AIRPORT_McCarran International Airport                    460390 non-null  bool   \n",
      " 68  Destination_AIRPORT_Phoenix Sky Harbor International Airport          460390 non-null  bool   \n",
      " 69  Destination_AIRPORT_San Francisco International Airport               460390 non-null  bool   \n",
      " 70  WEEKEND                                                               460390 non-null  int64  \n",
      "dtypes: bool(29), float64(40), int64(2)\n",
      "memory usage: 160.3 MB\n"
     ]
    }
   ],
   "execution_count": 32
  },
  {
   "cell_type": "code",
   "metadata": {
    "ExecuteTime": {
     "end_time": "2024-12-10T21:30:22.502977Z",
     "start_time": "2024-12-10T21:30:22.104494Z"
    }
   },
   "source": [
    "# Split dataset into training and test sets\n",
    "X['AVERAGE_WEATHER_DELAY'] = 0\n",
    "X_train, X_test, y_train, y_test = train_test_split(\n",
    "    X, y, test_size=0.3, random_state=42, stratify=y\n",
    ")"
   ],
   "outputs": [],
   "execution_count": 33
  },
  {
   "cell_type": "code",
   "metadata": {
    "ExecuteTime": {
     "end_time": "2024-12-10T21:30:22.549412Z",
     "start_time": "2024-12-10T21:30:22.541163Z"
    }
   },
   "source": [
    "print(f\"Training set: {X_train.shape[0]} samples\")\n",
    "print(f\"Test set: {X_test.shape[0]} samples\")"
   ],
   "outputs": [
    {
     "name": "stdout",
     "output_type": "stream",
     "text": [
      "Training set: 322273 samples\n",
      "Test set: 138117 samples\n"
     ]
    }
   ],
   "execution_count": 34
  },
  {
   "cell_type": "code",
   "metadata": {
    "ExecuteTime": {
     "end_time": "2024-12-10T21:30:23.284892Z",
     "start_time": "2024-12-10T21:30:23.266319Z"
    }
   },
   "source": [
    "y_train.value_counts()"
   ],
   "outputs": [
    {
     "data": {
      "text/plain": [
       "WEATHER_DELAY\n",
       "0.0    317545\n",
       "1.0      4728\n",
       "Name: count, dtype: int64"
      ]
     },
     "execution_count": 35,
     "metadata": {},
     "output_type": "execute_result"
    }
   ],
   "execution_count": 35
  },
  {
   "cell_type": "code",
   "metadata": {
    "ExecuteTime": {
     "end_time": "2024-12-10T21:30:23.721787Z",
     "start_time": "2024-12-10T21:30:23.714601Z"
    }
   },
   "source": [
    "y_test.value_counts()"
   ],
   "outputs": [
    {
     "data": {
      "text/plain": [
       "WEATHER_DELAY\n",
       "0.0    136091\n",
       "1.0      2026\n",
       "Name: count, dtype: int64"
      ]
     },
     "execution_count": 36,
     "metadata": {},
     "output_type": "execute_result"
    }
   ],
   "execution_count": 36
  },
  {
   "cell_type": "markdown",
   "metadata": {},
   "source": [
    "Durch `stratify` erreichen wir, dass die Klassenrepräsentation im Training und Test-set ungefähr denselben Anteil hat."
   ]
  },
  {
   "cell_type": "code",
   "metadata": {
    "ExecuteTime": {
     "end_time": "2024-12-10T21:30:24.379482Z",
     "start_time": "2024-12-10T21:30:24.332179Z"
    }
   },
   "source": [
    "X_train.info()"
   ],
   "outputs": [
    {
     "name": "stdout",
     "output_type": "stream",
     "text": [
      "<class 'pandas.core.frame.DataFrame'>\n",
      "Index: 322273 entries, 254406 to 405927\n",
      "Data columns (total 72 columns):\n",
      " #   Column                                                                Non-Null Count   Dtype  \n",
      "---  ------                                                                --------------   -----  \n",
      " 0   DISTANCE                                                              322273 non-null  int64  \n",
      " 1   SCHEDULED_DEPARTURE_DATETIME_tmpc                                     322273 non-null  float64\n",
      " 2   SCHEDULED_DEPARTURE_DATETIME_sped                                     322273 non-null  float64\n",
      " 3   SCHEDULED_DEPARTURE_DATETIME_p01m                                     322273 non-null  float64\n",
      " 4   SCHEDULED_DEPARTURE_DATETIME_vsby                                     322273 non-null  float64\n",
      " 5   departure_6hr_before_tmpc                                             322273 non-null  float64\n",
      " 6   departure_6hr_before_sped                                             322273 non-null  float64\n",
      " 7   departure_6hr_before_p01m                                             322273 non-null  float64\n",
      " 8   departure_6hr_before_vsby                                             322273 non-null  float64\n",
      " 9   departure_1hr_before_tmpc                                             322273 non-null  float64\n",
      " 10  departure_1hr_before_sped                                             322273 non-null  float64\n",
      " 11  departure_1hr_before_p01m                                             322273 non-null  float64\n",
      " 12  departure_1hr_before_vsby                                             322273 non-null  float64\n",
      " 13  departure_1hr_after_tmpc                                              322273 non-null  float64\n",
      " 14  departure_1hr_after_sped                                              322273 non-null  float64\n",
      " 15  departure_1hr_after_p01m                                              322273 non-null  float64\n",
      " 16  departure_1hr_after_vsby                                              322273 non-null  float64\n",
      " 17  departure_6hr_after_tmpc                                              322273 non-null  float64\n",
      " 18  departure_6hr_after_sped                                              322273 non-null  float64\n",
      " 19  departure_6hr_after_p01m                                              322273 non-null  float64\n",
      " 20  departure_6hr_after_vsby                                              322273 non-null  float64\n",
      " 21  SCHEDULED_ARRIVAL_DATETIME_tmpc                                       322273 non-null  float64\n",
      " 22  SCHEDULED_ARRIVAL_DATETIME_sped                                       322273 non-null  float64\n",
      " 23  SCHEDULED_ARRIVAL_DATETIME_p01m                                       322273 non-null  float64\n",
      " 24  SCHEDULED_ARRIVAL_DATETIME_vsby                                       322273 non-null  float64\n",
      " 25  arrival_6hr_before_tmpc                                               322273 non-null  float64\n",
      " 26  arrival_6hr_before_sped                                               322273 non-null  float64\n",
      " 27  arrival_6hr_before_p01m                                               322273 non-null  float64\n",
      " 28  arrival_6hr_before_vsby                                               322273 non-null  float64\n",
      " 29  arrival_1hr_before_tmpc                                               322273 non-null  float64\n",
      " 30  arrival_1hr_before_sped                                               322273 non-null  float64\n",
      " 31  arrival_1hr_before_p01m                                               322273 non-null  float64\n",
      " 32  arrival_1hr_before_vsby                                               322273 non-null  float64\n",
      " 33  arrival_1hr_after_tmpc                                                322273 non-null  float64\n",
      " 34  arrival_1hr_after_sped                                                322273 non-null  float64\n",
      " 35  arrival_1hr_after_p01m                                                322273 non-null  float64\n",
      " 36  arrival_1hr_after_vsby                                                322273 non-null  float64\n",
      " 37  arrival_6hr_after_tmpc                                                322273 non-null  float64\n",
      " 38  arrival_6hr_after_sped                                                322273 non-null  float64\n",
      " 39  arrival_6hr_after_p01m                                                322273 non-null  float64\n",
      " 40  arrival_6hr_after_vsby                                                322273 non-null  float64\n",
      " 41  AIRLINE_American Eagle Airlines Inc.                                  322273 non-null  bool   \n",
      " 42  AIRLINE_Atlantic Southeast Airlines                                   322273 non-null  bool   \n",
      " 43  AIRLINE_Delta Air Lines Inc.                                          322273 non-null  bool   \n",
      " 44  AIRLINE_Frontier Airlines Inc.                                        322273 non-null  bool   \n",
      " 45  AIRLINE_JetBlue Airways                                               322273 non-null  bool   \n",
      " 46  AIRLINE_Skywest Airlines Inc.                                         322273 non-null  bool   \n",
      " 47  AIRLINE_Southwest Airlines Co.                                        322273 non-null  bool   \n",
      " 48  AIRLINE_Spirit Air Lines                                              322273 non-null  bool   \n",
      " 49  AIRLINE_US Airways Inc.                                               322273 non-null  bool   \n",
      " 50  AIRLINE_United Air Lines Inc.                                         322273 non-null  bool   \n",
      " 51  AIRLINE_Virgin America                                                322273 non-null  bool   \n",
      " 52  Origin_AIRPORT_Dallas/Fort Worth International Airport                322273 non-null  bool   \n",
      " 53  Origin_AIRPORT_Denver International Airport                           322273 non-null  bool   \n",
      " 54  Origin_AIRPORT_George Bush Intercontinental Airport                   322273 non-null  bool   \n",
      " 55  Origin_AIRPORT_Hartsfield-Jackson Atlanta International Airport       322273 non-null  bool   \n",
      " 56  Origin_AIRPORT_LaGuardia Airport (Marine Air Terminal)                322273 non-null  bool   \n",
      " 57  Origin_AIRPORT_Los Angeles International Airport                      322273 non-null  bool   \n",
      " 58  Origin_AIRPORT_McCarran International Airport                         322273 non-null  bool   \n",
      " 59  Origin_AIRPORT_Phoenix Sky Harbor International Airport               322273 non-null  bool   \n",
      " 60  Origin_AIRPORT_San Francisco International Airport                    322273 non-null  bool   \n",
      " 61  Destination_AIRPORT_Dallas/Fort Worth International Airport           322273 non-null  bool   \n",
      " 62  Destination_AIRPORT_Denver International Airport                      322273 non-null  bool   \n",
      " 63  Destination_AIRPORT_George Bush Intercontinental Airport              322273 non-null  bool   \n",
      " 64  Destination_AIRPORT_Hartsfield-Jackson Atlanta International Airport  322273 non-null  bool   \n",
      " 65  Destination_AIRPORT_LaGuardia Airport (Marine Air Terminal)           322273 non-null  bool   \n",
      " 66  Destination_AIRPORT_Los Angeles International Airport                 322273 non-null  bool   \n",
      " 67  Destination_AIRPORT_McCarran International Airport                    322273 non-null  bool   \n",
      " 68  Destination_AIRPORT_Phoenix Sky Harbor International Airport          322273 non-null  bool   \n",
      " 69  Destination_AIRPORT_San Francisco International Airport               322273 non-null  bool   \n",
      " 70  WEEKEND                                                               322273 non-null  int64  \n",
      " 71  AVERAGE_WEATHER_DELAY                                                 322273 non-null  int64  \n",
      "dtypes: bool(29), float64(40), int64(3)\n",
      "memory usage: 117.1 MB\n"
     ]
    }
   ],
   "execution_count": 37
  },
  {
   "cell_type": "code",
   "metadata": {
    "ExecuteTime": {
     "end_time": "2024-12-10T21:30:24.734074Z",
     "start_time": "2024-12-10T21:30:24.727079Z"
    }
   },
   "source": [
    "X_train.columns"
   ],
   "outputs": [
    {
     "data": {
      "text/plain": [
       "Index(['DISTANCE', 'SCHEDULED_DEPARTURE_DATETIME_tmpc',\n",
       "       'SCHEDULED_DEPARTURE_DATETIME_sped',\n",
       "       'SCHEDULED_DEPARTURE_DATETIME_p01m',\n",
       "       'SCHEDULED_DEPARTURE_DATETIME_vsby', 'departure_6hr_before_tmpc',\n",
       "       'departure_6hr_before_sped', 'departure_6hr_before_p01m',\n",
       "       'departure_6hr_before_vsby', 'departure_1hr_before_tmpc',\n",
       "       'departure_1hr_before_sped', 'departure_1hr_before_p01m',\n",
       "       'departure_1hr_before_vsby', 'departure_1hr_after_tmpc',\n",
       "       'departure_1hr_after_sped', 'departure_1hr_after_p01m',\n",
       "       'departure_1hr_after_vsby', 'departure_6hr_after_tmpc',\n",
       "       'departure_6hr_after_sped', 'departure_6hr_after_p01m',\n",
       "       'departure_6hr_after_vsby', 'SCHEDULED_ARRIVAL_DATETIME_tmpc',\n",
       "       'SCHEDULED_ARRIVAL_DATETIME_sped', 'SCHEDULED_ARRIVAL_DATETIME_p01m',\n",
       "       'SCHEDULED_ARRIVAL_DATETIME_vsby', 'arrival_6hr_before_tmpc',\n",
       "       'arrival_6hr_before_sped', 'arrival_6hr_before_p01m',\n",
       "       'arrival_6hr_before_vsby', 'arrival_1hr_before_tmpc',\n",
       "       'arrival_1hr_before_sped', 'arrival_1hr_before_p01m',\n",
       "       'arrival_1hr_before_vsby', 'arrival_1hr_after_tmpc',\n",
       "       'arrival_1hr_after_sped', 'arrival_1hr_after_p01m',\n",
       "       'arrival_1hr_after_vsby', 'arrival_6hr_after_tmpc',\n",
       "       'arrival_6hr_after_sped', 'arrival_6hr_after_p01m',\n",
       "       'arrival_6hr_after_vsby', 'AIRLINE_American Eagle Airlines Inc.',\n",
       "       'AIRLINE_Atlantic Southeast Airlines', 'AIRLINE_Delta Air Lines Inc.',\n",
       "       'AIRLINE_Frontier Airlines Inc.', 'AIRLINE_JetBlue Airways',\n",
       "       'AIRLINE_Skywest Airlines Inc.', 'AIRLINE_Southwest Airlines Co.',\n",
       "       'AIRLINE_Spirit Air Lines', 'AIRLINE_US Airways Inc.',\n",
       "       'AIRLINE_United Air Lines Inc.', 'AIRLINE_Virgin America',\n",
       "       'Origin_AIRPORT_Dallas/Fort Worth International Airport',\n",
       "       'Origin_AIRPORT_Denver International Airport',\n",
       "       'Origin_AIRPORT_George Bush Intercontinental Airport',\n",
       "       'Origin_AIRPORT_Hartsfield-Jackson Atlanta International Airport',\n",
       "       'Origin_AIRPORT_LaGuardia Airport (Marine Air Terminal)',\n",
       "       'Origin_AIRPORT_Los Angeles International Airport',\n",
       "       'Origin_AIRPORT_McCarran International Airport',\n",
       "       'Origin_AIRPORT_Phoenix Sky Harbor International Airport',\n",
       "       'Origin_AIRPORT_San Francisco International Airport',\n",
       "       'Destination_AIRPORT_Dallas/Fort Worth International Airport',\n",
       "       'Destination_AIRPORT_Denver International Airport',\n",
       "       'Destination_AIRPORT_George Bush Intercontinental Airport',\n",
       "       'Destination_AIRPORT_Hartsfield-Jackson Atlanta International Airport',\n",
       "       'Destination_AIRPORT_LaGuardia Airport (Marine Air Terminal)',\n",
       "       'Destination_AIRPORT_Los Angeles International Airport',\n",
       "       'Destination_AIRPORT_McCarran International Airport',\n",
       "       'Destination_AIRPORT_Phoenix Sky Harbor International Airport',\n",
       "       'Destination_AIRPORT_San Francisco International Airport', 'WEEKEND',\n",
       "       'AVERAGE_WEATHER_DELAY'],\n",
       "      dtype='object')"
      ]
     },
     "execution_count": 38,
     "metadata": {},
     "output_type": "execute_result"
    }
   ],
   "execution_count": 38
  },
  {
   "cell_type": "code",
   "metadata": {
    "ExecuteTime": {
     "end_time": "2024-12-10T21:30:25.417642Z",
     "start_time": "2024-12-10T21:30:25.383963Z"
    }
   },
   "source": [
    "# Apply OneHotEncoder to categorical columns, and scale numerical columns\n",
    "numeric_features = [\n",
    "                    'DISTANCE', 'SCHEDULED_DEPARTURE_DATETIME_tmpc',\n",
    "                    'SCHEDULED_DEPARTURE_DATETIME_sped',\n",
    "                    'SCHEDULED_DEPARTURE_DATETIME_p01m',\n",
    "                    'SCHEDULED_DEPARTURE_DATETIME_vsby', 'departure_6hr_before_tmpc',\n",
    "                    'departure_6hr_before_sped', 'departure_6hr_before_p01m',\n",
    "                    'departure_6hr_before_vsby', 'departure_1hr_before_tmpc',\n",
    "                    'departure_1hr_before_sped', 'departure_1hr_before_p01m',\n",
    "                    'departure_1hr_before_vsby', 'departure_1hr_after_tmpc',\n",
    "                    'departure_1hr_after_sped', 'departure_1hr_after_p01m',\n",
    "                    'departure_1hr_after_vsby', 'departure_6hr_after_tmpc',\n",
    "                    'departure_6hr_after_sped', 'departure_6hr_after_p01m',\n",
    "                    'departure_6hr_after_vsby', 'SCHEDULED_ARRIVAL_DATETIME_tmpc',\n",
    "                    'SCHEDULED_ARRIVAL_DATETIME_sped', 'SCHEDULED_ARRIVAL_DATETIME_p01m',\n",
    "                    'SCHEDULED_ARRIVAL_DATETIME_vsby', 'arrival_6hr_before_tmpc',\n",
    "                    'arrival_6hr_before_sped', 'arrival_6hr_before_p01m',\n",
    "                    'arrival_6hr_before_vsby', 'arrival_1hr_before_tmpc',\n",
    "                    'arrival_1hr_before_sped', 'arrival_1hr_before_p01m',\n",
    "                    'arrival_1hr_before_vsby', 'arrival_1hr_after_tmpc',\n",
    "                    'arrival_1hr_after_sped', 'arrival_1hr_after_p01m',\n",
    "                    'arrival_1hr_after_vsby', 'arrival_6hr_after_tmpc',\n",
    "                    'arrival_6hr_after_sped', 'arrival_6hr_after_p01m',\n",
    "                    'arrival_6hr_after_vsby', 'AVERAGE_WEATHER_DELAY'\n",
    "]\n",
    "categorical_features = [\n",
    "    'WEEKEND'\n",
    "]\n",
    "\n",
    "# take remaining features (because they have already been processed)\n",
    "remaining_features_test = [col for col in X_test.columns if col not in numeric_features + categorical_features]\n",
    "remaining_features_train = [col for col in X_train.columns if col not in numeric_features + categorical_features]\n",
    "# create a DataFrame with the already processed features\n",
    "X_remaining_test = X_test[remaining_features_test].reset_index(drop=True)\n",
    "X_remaining_train = X_train[remaining_features_train].reset_index(drop=True)\n"
   ],
   "outputs": [],
   "execution_count": 39
  },
  {
   "metadata": {
    "ExecuteTime": {
     "end_time": "2024-12-10T21:30:26.813683Z",
     "start_time": "2024-12-10T21:30:26.758986Z"
    }
   },
   "cell_type": "code",
   "source": [
    "\n",
    "\n",
    "# Process numeric features: scaling\n",
    "scaler = StandardScaler()\n",
    "X_train_numeric = X_train[numeric_features]\n",
    "X_test_numeric = X_test[numeric_features]\n"
   ],
   "outputs": [],
   "execution_count": 40
  },
  {
   "metadata": {
    "ExecuteTime": {
     "end_time": "2024-12-10T21:30:40.177084Z",
     "start_time": "2024-12-10T21:30:40.170274Z"
    }
   },
   "cell_type": "code",
   "source": "X_train_numeric.columns",
   "outputs": [
    {
     "data": {
      "text/plain": [
       "Index(['DISTANCE', 'SCHEDULED_DEPARTURE_DATETIME_tmpc',\n",
       "       'SCHEDULED_DEPARTURE_DATETIME_sped',\n",
       "       'SCHEDULED_DEPARTURE_DATETIME_p01m',\n",
       "       'SCHEDULED_DEPARTURE_DATETIME_vsby', 'departure_6hr_before_tmpc',\n",
       "       'departure_6hr_before_sped', 'departure_6hr_before_p01m',\n",
       "       'departure_6hr_before_vsby', 'departure_1hr_before_tmpc',\n",
       "       'departure_1hr_before_sped', 'departure_1hr_before_p01m',\n",
       "       'departure_1hr_before_vsby', 'departure_1hr_after_tmpc',\n",
       "       'departure_1hr_after_sped', 'departure_1hr_after_p01m',\n",
       "       'departure_1hr_after_vsby', 'departure_6hr_after_tmpc',\n",
       "       'departure_6hr_after_sped', 'departure_6hr_after_p01m',\n",
       "       'departure_6hr_after_vsby', 'SCHEDULED_ARRIVAL_DATETIME_tmpc',\n",
       "       'SCHEDULED_ARRIVAL_DATETIME_sped', 'SCHEDULED_ARRIVAL_DATETIME_p01m',\n",
       "       'SCHEDULED_ARRIVAL_DATETIME_vsby', 'arrival_6hr_before_tmpc',\n",
       "       'arrival_6hr_before_sped', 'arrival_6hr_before_p01m',\n",
       "       'arrival_6hr_before_vsby', 'arrival_1hr_before_tmpc',\n",
       "       'arrival_1hr_before_sped', 'arrival_1hr_before_p01m',\n",
       "       'arrival_1hr_before_vsby', 'arrival_1hr_after_tmpc',\n",
       "       'arrival_1hr_after_sped', 'arrival_1hr_after_p01m',\n",
       "       'arrival_1hr_after_vsby', 'arrival_6hr_after_tmpc',\n",
       "       'arrival_6hr_after_sped', 'arrival_6hr_after_p01m',\n",
       "       'arrival_6hr_after_vsby', 'AVERAGE_WEATHER_DELAY'],\n",
       "      dtype='object')"
      ]
     },
     "execution_count": 42,
     "metadata": {},
     "output_type": "execute_result"
    }
   ],
   "execution_count": 42
  },
  {
   "metadata": {
    "ExecuteTime": {
     "end_time": "2024-12-10T21:48:13.666117Z",
     "start_time": "2024-12-10T21:48:12.087997Z"
    }
   },
   "cell_type": "code",
   "source": [
    "\n",
    "X_train_scaled = scaler.fit_transform(X_train_numeric)\n",
    "X_test_scaled = scaler.transform(X_test_numeric)\n",
    "\n",
    "# Process categorical features: dummy coding\n",
    "encoder = OneHotEncoder(handle_unknown=\"ignore\", drop=\"first\")\n",
    "X_train_categorical = X_train[categorical_features]\n",
    "X_test_categorical = X_test[categorical_features]\n",
    "X_train_encoded = encoder.fit_transform(X_train_categorical).toarray()\n",
    "X_test_encoded = encoder.transform(X_test_categorical).toarray()\n",
    "\n"
   ],
   "outputs": [],
   "execution_count": 43
  },
  {
   "cell_type": "code",
   "metadata": {
    "ExecuteTime": {
     "end_time": "2024-12-10T21:48:15.676806Z",
     "start_time": "2024-12-10T21:48:15.500566Z"
    }
   },
   "source": [
    "# Combine numeric and categorical features back\n",
    "X_train_encoded = pd.DataFrame(X_train_encoded, columns= encoder.get_feature_names_out())\n",
    "X_test_encoded = pd.DataFrame(X_test_encoded, columns= encoder.get_feature_names_out())\n",
    "X_train_scaled = pd.DataFrame(X_train_scaled, columns= scaler.get_feature_names_out())\n",
    "X_test_scaled = pd.DataFrame(X_test_scaled, columns= scaler.get_feature_names_out())\n",
    "\n",
    "X_train_processed = pd.concat([X_train_scaled, X_train_encoded, X_remaining_train], axis=1)\n",
    "X_test_processed = pd.concat([X_test_scaled, X_test_encoded, X_remaining_test], axis=1)\n",
    "\n",
    "# Check the result\n",
    "print(f\"X_train_processed shape: {X_train_processed.shape}\")\n",
    "print(f\"X_test_processed shape: {X_test_processed.shape}\")"
   ],
   "outputs": [
    {
     "name": "stdout",
     "output_type": "stream",
     "text": [
      "X_train_processed shape: (322273, 72)\n",
      "X_test_processed shape: (138117, 72)\n"
     ]
    }
   ],
   "execution_count": 44
  },
  {
   "metadata": {
    "ExecuteTime": {
     "end_time": "2024-12-10T21:48:17.855909Z",
     "start_time": "2024-12-10T21:48:17.788342Z"
    }
   },
   "cell_type": "code",
   "source": "X_train_processed.columns",
   "outputs": [
    {
     "data": {
      "text/plain": [
       "Index(['DISTANCE', 'SCHEDULED_DEPARTURE_DATETIME_tmpc',\n",
       "       'SCHEDULED_DEPARTURE_DATETIME_sped',\n",
       "       'SCHEDULED_DEPARTURE_DATETIME_p01m',\n",
       "       'SCHEDULED_DEPARTURE_DATETIME_vsby', 'departure_6hr_before_tmpc',\n",
       "       'departure_6hr_before_sped', 'departure_6hr_before_p01m',\n",
       "       'departure_6hr_before_vsby', 'departure_1hr_before_tmpc',\n",
       "       'departure_1hr_before_sped', 'departure_1hr_before_p01m',\n",
       "       'departure_1hr_before_vsby', 'departure_1hr_after_tmpc',\n",
       "       'departure_1hr_after_sped', 'departure_1hr_after_p01m',\n",
       "       'departure_1hr_after_vsby', 'departure_6hr_after_tmpc',\n",
       "       'departure_6hr_after_sped', 'departure_6hr_after_p01m',\n",
       "       'departure_6hr_after_vsby', 'SCHEDULED_ARRIVAL_DATETIME_tmpc',\n",
       "       'SCHEDULED_ARRIVAL_DATETIME_sped', 'SCHEDULED_ARRIVAL_DATETIME_p01m',\n",
       "       'SCHEDULED_ARRIVAL_DATETIME_vsby', 'arrival_6hr_before_tmpc',\n",
       "       'arrival_6hr_before_sped', 'arrival_6hr_before_p01m',\n",
       "       'arrival_6hr_before_vsby', 'arrival_1hr_before_tmpc',\n",
       "       'arrival_1hr_before_sped', 'arrival_1hr_before_p01m',\n",
       "       'arrival_1hr_before_vsby', 'arrival_1hr_after_tmpc',\n",
       "       'arrival_1hr_after_sped', 'arrival_1hr_after_p01m',\n",
       "       'arrival_1hr_after_vsby', 'arrival_6hr_after_tmpc',\n",
       "       'arrival_6hr_after_sped', 'arrival_6hr_after_p01m',\n",
       "       'arrival_6hr_after_vsby', 'AVERAGE_WEATHER_DELAY', 'WEEKEND_1',\n",
       "       'AIRLINE_American Eagle Airlines Inc.',\n",
       "       'AIRLINE_Atlantic Southeast Airlines', 'AIRLINE_Delta Air Lines Inc.',\n",
       "       'AIRLINE_Frontier Airlines Inc.', 'AIRLINE_JetBlue Airways',\n",
       "       'AIRLINE_Skywest Airlines Inc.', 'AIRLINE_Southwest Airlines Co.',\n",
       "       'AIRLINE_Spirit Air Lines', 'AIRLINE_US Airways Inc.',\n",
       "       'AIRLINE_United Air Lines Inc.', 'AIRLINE_Virgin America',\n",
       "       'Origin_AIRPORT_Dallas/Fort Worth International Airport',\n",
       "       'Origin_AIRPORT_Denver International Airport',\n",
       "       'Origin_AIRPORT_George Bush Intercontinental Airport',\n",
       "       'Origin_AIRPORT_Hartsfield-Jackson Atlanta International Airport',\n",
       "       'Origin_AIRPORT_LaGuardia Airport (Marine Air Terminal)',\n",
       "       'Origin_AIRPORT_Los Angeles International Airport',\n",
       "       'Origin_AIRPORT_McCarran International Airport',\n",
       "       'Origin_AIRPORT_Phoenix Sky Harbor International Airport',\n",
       "       'Origin_AIRPORT_San Francisco International Airport',\n",
       "       'Destination_AIRPORT_Dallas/Fort Worth International Airport',\n",
       "       'Destination_AIRPORT_Denver International Airport',\n",
       "       'Destination_AIRPORT_George Bush Intercontinental Airport',\n",
       "       'Destination_AIRPORT_Hartsfield-Jackson Atlanta International Airport',\n",
       "       'Destination_AIRPORT_LaGuardia Airport (Marine Air Terminal)',\n",
       "       'Destination_AIRPORT_Los Angeles International Airport',\n",
       "       'Destination_AIRPORT_McCarran International Airport',\n",
       "       'Destination_AIRPORT_Phoenix Sky Harbor International Airport',\n",
       "       'Destination_AIRPORT_San Francisco International Airport'],\n",
       "      dtype='object')"
      ]
     },
     "execution_count": 45,
     "metadata": {},
     "output_type": "execute_result"
    }
   ],
   "execution_count": 45
  },
  {
   "cell_type": "markdown",
   "metadata": {},
   "source": [
    "Training set: 322273 samples\n",
    "\n",
    "Test set: 138117 samples"
   ]
  },
  {
   "cell_type": "markdown",
   "metadata": {},
   "source": [
    "# Models"
   ]
  },
  {
   "cell_type": "markdown",
   "metadata": {},
   "source": [
    "## Functions"
   ]
  },
  {
   "cell_type": "code",
   "metadata": {},
   "source": [
    "# We are going to create many models, let us keep track of their performance\n",
    "# We will use a dataframe to store the results of the different models\n",
    "results2 = pd.DataFrame({\"Model\": [], \"Train_CV\": [], \"Accuracy\": [], \"Precision\": [], \"Recall\": [], \"F1-Score\": [], \"Best Threshold (J-statistic)\": []})"
   ],
   "outputs": [],
   "execution_count": null
  },
  {
   "cell_type": "code",
   "metadata": {},
   "source": [
    "# We create a scorer that computes the given scores (accuracy, precision, recall and f1-score) \n",
    "def make_scorefunc(loss_func, greater_is_better=True):\n",
    "    def scorer(y, y_pred):\n",
    "        return loss_func(y, y_pred)\n",
    "    return make_scorer(scorer, greater_is_better=greater_is_better)"
   ],
   "outputs": [],
   "execution_count": null
  },
  {
   "cell_type": "code",
   "metadata": {},
   "source": [
    "# Create the scorer dictionaries\n",
    "scorer = {\n",
    "    \"Accuracy\": make_scorefunc(accuracy),\n",
    "    \"Precision\": make_scorefunc(precision),\n",
    "    \"Recall\": make_scorefunc(recall),\n",
    "    \"F1-Score\": make_scorefunc(f1)\n",
    "}"
   ],
   "outputs": [],
   "execution_count": null
  },
  {
   "cell_type": "code",
   "metadata": {},
   "source": [
    "## Function to calculate the metrics and display the confusion matrix (based on the j-statistic threshold) and roc curve\n",
    "\n",
    "def compute_metrics(model, X_train, y_train, X_test, y_test, scorer, model_name=None):\n",
    "    # Extract the names from the scorer dictionary\n",
    "    scorer_names = list(scorer.keys())\n",
    "\n",
    "    # Fit the model to the training set\n",
    "    model.fit(X_train, y_train)\n",
    "    \n",
    "    ### Visualization and Metric Calculation ###\n",
    "    # Predict probabilities (for ROC curve and custom thresholding)\n",
    "    y_probs = model.predict_proba(X_test)[:, 1]\n",
    "\n",
    "    # Compute ROC curve and thresholds\n",
    "    fpr, tpr, thresholds = roc_curve(y_test, y_probs)\n",
    "\n",
    "    # Calculate the J-statistic and find the optimal threshold\n",
    "    j_statistic = tpr - fpr\n",
    "    optimal_idx = j_statistic.argmax()\n",
    "    optimal_threshold = thresholds[optimal_idx]\n",
    "\n",
    "    # Predict labels using the optimal threshold\n",
    "    y_pred_optimal = (y_probs >= optimal_threshold).astype(int)\n",
    "\n",
    "    # Create a dictionary for the pandas dataframe\n",
    "    test_scores = {\"Model\": model_name, \"Train_CV\": \"Test\", \"Best Threshold (J-statistic)\": optimal_threshold}\n",
    "    \n",
    "    # Iterate over the scorers, now using y_test and y_pred_optimal\n",
    "    for k in scorer_names:\n",
    "        score_func = scorer[k]._score_func  # Extract the scoring function\n",
    "        test_scores[k] = score_func(y_test, y_pred_optimal)  # Use y_pred_optimal\n",
    "\n",
    "    # Append the results to the dataframe\n",
    "    test_scores = pd.DataFrame(test_scores, index=[0])\n",
    "\n",
    "    # Compute confusion matrix for the optimal threshold\n",
    "    cm = confusion_matrix(y_test, y_pred_optimal)\n",
    "\n",
    "    # Compute ROC area\n",
    "    roc_auc = auc(fpr, tpr)\n",
    "\n",
    "    # Create a figure with two subplots side by side\n",
    "    fig, (ax1, ax2) = plt.subplots(1, 2, figsize=(12, 6))\n",
    "\n",
    "    # Plot confusion matrix\n",
    "    disp = ConfusionMatrixDisplay(confusion_matrix=cm)\n",
    "    disp.plot(ax=ax1, cmap='Blues', colorbar=False)\n",
    "    ax1.set_title('Confusion Matrix (Optimal Threshold)')\n",
    "    ax1.set_xlabel('Predicted Label')\n",
    "    ax1.set_ylabel('True Label')\n",
    "    ax1.grid(False)\n",
    "\n",
    "    # Calculate percentages for the confusion matrix\n",
    "    cm_percent = cm / cm.sum() * 100  # Divide each cell by the total sum of the matrix to get percentages\n",
    "\n",
    "    # Annotate with percentages below the numbers\n",
    "    for i in range(cm.shape[0]):  # Iterate over rows\n",
    "        for j in range(cm.shape[1]):  # Iterate over columns\n",
    "            percentage = f\"{cm_percent[i, j]:.1f}%\"  # Format percentage\n",
    "            ax1.text(j, i + 0.3, percentage, ha=\"center\", va=\"center\", fontsize=10, color=\"black\")  # Add below numbers\n",
    "\n",
    "    # Plot ROC curve\n",
    "    ax2.plot(fpr, tpr, color='darkorange', lw=2, label=f'ROC curve (AUC = {roc_auc:.2f})')\n",
    "    ax2.plot([0, 1], [0, 1], color='navy', lw=2, linestyle='--')\n",
    "    ax2.scatter(fpr[optimal_idx], tpr[optimal_idx], color=\"red\", \n",
    "                label=f\"Optimal Threshold: {optimal_threshold:.5f}\", zorder=5)\n",
    "    ax2.set_xlim([0.0, 1.0])\n",
    "    ax2.set_ylim([0.0, 1.05])\n",
    "    ax2.set_xlabel('False Positive Rate')\n",
    "    ax2.set_ylabel('True Positive Rate')\n",
    "    ax2.set_title('Receiver Operating Characteristic (ROC) Curve')\n",
    "    ax2.legend(loc='lower right')\n",
    "\n",
    "    # Adjust layout and display the plots\n",
    "    plt.tight_layout()\n",
    "    plt.show()\n",
    "\n",
    "    return test_scores"
   ],
   "outputs": [],
   "execution_count": null
  },
  {
   "cell_type": "code",
   "metadata": {},
   "source": [
    "# function to calculate the metrics and display the confusion matrix (based on a self-defined threshold) and roc curve\n",
    "\n",
    "def compute_metrics2(model, X_train, y_train, X_test, y_test, scorer, model_name=None, optimal_threshold=0.5):\n",
    "    # Extract the names from the scorer dictionary\n",
    "    scorer_names = list(scorer.keys())\n",
    "\n",
    "    # Fit the model to the training set\n",
    "    model.fit(X_train, y_train)\n",
    "    \n",
    "    ### Visualization and Metric Calculation ###\n",
    "    # Predict probabilities (for ROC curve and custom thresholding)\n",
    "    y_probs = model.predict_proba(X_test)[:, 1]\n",
    "\n",
    "    # Compute ROC curve and thresholds\n",
    "    fpr, tpr, thresholds = roc_curve(y_test, y_probs)\n",
    "\n",
    "\n",
    "    # Find the index of the threshold closest to the optimal threshold\n",
    "    optimal_idx = np.argmin(np.abs(thresholds - optimal_threshold))\n",
    "\n",
    "    # Predict labels using the optimal threshold\n",
    "    y_pred_optimal = (y_probs >= optimal_threshold).astype(int)\n",
    "\n",
    "    # Create a dictionary for the pandas dataframe\n",
    "    test_scores = {\"Model\": model_name, \"Train_CV\": \"Test\", \"Best Threshold (J-statistic)\": optimal_threshold}\n",
    "    \n",
    "    # Calculate the metrics for the optimal threshold\n",
    "    test_scores[\"Accuracy\"] = accuracy(y_test, y_pred_optimal)\n",
    "    test_scores[\"Precision\"] = precision(y_test, y_pred_optimal)\n",
    "    test_scores[\"Recall\"] = recall(y_test, y_pred_optimal)\n",
    "    test_scores[\"F1-Score\"] = f1(y_test, y_pred_optimal)\n",
    "\n",
    "    # Append the results to the dataframe\n",
    "    test_scores = pd.DataFrame(test_scores, index=[0])\n",
    "    # Compute confusion matrix for the optimal threshold\n",
    "    cm = confusion_matrix(y_test, y_pred_optimal)\n",
    "\n",
    "    # Compute ROC area\n",
    "    roc_auc = auc(fpr, tpr)\n",
    "\n",
    "    # Create a figure with two subplots side by side\n",
    "    fig, (ax1, ax2) = plt.subplots(1, 2, figsize=(12, 6))\n",
    "\n",
    "    # Plot confusion matrix\n",
    "    disp = ConfusionMatrixDisplay(confusion_matrix=cm)\n",
    "    disp.plot(ax=ax1, cmap='Blues', colorbar=False)\n",
    "    ax1.set_title('Confusion Matrix (Optimal Threshold)')\n",
    "    ax1.set_xlabel('Predicted Label')\n",
    "    ax1.set_ylabel('True Label')\n",
    "    ax1.grid(False)\n",
    "\n",
    "    # Calculate percentages for the confusion matrix\n",
    "    cm_percent = cm / cm.sum() * 100  # Divide each cell by the total sum of the matrix to get percentages\n",
    "\n",
    "    # Annotate with percentages below the numbers\n",
    "    for i in range(cm.shape[0]):  # Iterate over rows\n",
    "        for j in range(cm.shape[1]):  # Iterate over columns\n",
    "            percentage = f\"{cm_percent[i, j]:.1f}%\"  # Format percentage\n",
    "            ax1.text(j, i + 0.3, percentage, ha=\"center\", va=\"center\", fontsize=10, color=\"black\")  # Add below numbers\n",
    "\n",
    "    # Plot ROC curve\n",
    "    ax2.plot(fpr, tpr, color='darkorange', lw=2, label=f'ROC curve (AUC = {roc_auc:.2f})')\n",
    "    ax2.plot([0, 1], [0, 1], color='navy', lw=2, linestyle='--')\n",
    "    ax2.scatter(fpr[optimal_idx], tpr[optimal_idx], color=\"red\", \n",
    "                label=f\"Optimal Threshold: {optimal_threshold:.5f}\", zorder=5)\n",
    "    ax2.set_xlim([0.0, 1.0])\n",
    "    ax2.set_ylim([0.0, 1.05])\n",
    "    ax2.set_xlabel('False Positive Rate')\n",
    "    ax2.set_ylabel('True Positive Rate')\n",
    "    ax2.set_title('Receiver Operating Characteristic (ROC) Curve')\n",
    "    ax2.legend(loc='lower right')\n",
    "\n",
    "    # Adjust layout and display the plots\n",
    "    plt.tight_layout()\n",
    "    plt.show()\n",
    "\n",
    "    return test_scores"
   ],
   "outputs": [],
   "execution_count": null
  },
  {
   "cell_type": "markdown",
   "metadata": {},
   "source": [
    "## Logistic Regression"
   ]
  },
  {
   "cell_type": "code",
   "metadata": {},
   "source": [
    "log_reg1 = LogisticRegression(class_weight='balanced', random_state=42, max_iter=1000)"
   ],
   "outputs": [],
   "execution_count": null
  },
  {
   "cell_type": "code",
   "metadata": {},
   "source": [
    "log_reg1_results = compute_metrics(log_reg1, X_train_processed, y_train, X_test_processed, y_test, scorer=scorer, model_name=\"Logistic Regression1\")"
   ],
   "outputs": [],
   "execution_count": null
  },
  {
   "cell_type": "code",
   "metadata": {},
   "source": [
    "results2 = pd.concat([results2, log_reg1_results], axis=0)"
   ],
   "outputs": [],
   "execution_count": null
  },
  {
   "cell_type": "markdown",
   "metadata": {},
   "source": [
    "**Anpassung des Thresholds:**\n",
    "\n",
    "Da wir danach mit der vorhergesagten Klasse 1 (also Wetterverspätung), scheint die Zahl von False Positives (=fälschlicherweise vorhergesagt Wetterverspätung in 48'631 Fällen) zu hoch zu sein. Mit dem Anpassen des Thresholds nach oben würden wir diese Zahl herunterkriegen, weil dann es dann eine höhere Wahrscheinlichkeit bei den vorhersagen braucht, damit die Klasse 1 zugewiesen wird."
   ]
  },
  {
   "cell_type": "code",
   "metadata": {},
   "source": [
    "log_reg1_results2 = compute_metrics2(log_reg1, X_train_processed, y_train, X_test_processed, y_test, scorer=scorer, model_name=\"Logistic Regression1 (new threshold)\", optimal_threshold=0.55)"
   ],
   "outputs": [],
   "execution_count": null
  },
  {
   "cell_type": "code",
   "metadata": {},
   "source": [
    "results2 = pd.concat([results2, log_reg1_results2], axis=0)"
   ],
   "outputs": [],
   "execution_count": null
  },
  {
   "cell_type": "code",
   "metadata": {},
   "source": [
    "results2"
   ],
   "outputs": [],
   "execution_count": null
  },
  {
   "cell_type": "markdown",
   "metadata": {},
   "source": [
    "### Approach mit Smote"
   ]
  },
  {
   "cell_type": "code",
   "metadata": {},
   "source": [
    "# SMOTE auf die Trainingsdaten anwenden\n",
    "smote = SMOTE(random_state=42)\n",
    "X_train_balanced, y_train_balanced = smote.fit_resample(X_train_processed, y_train)"
   ],
   "outputs": [],
   "execution_count": null
  },
  {
   "cell_type": "code",
   "metadata": {},
   "source": [
    "log_reg3 = LogisticRegression(class_weight='balanced', random_state=42, max_iter=1000)"
   ],
   "outputs": [],
   "execution_count": null
  },
  {
   "cell_type": "code",
   "metadata": {},
   "source": [
    "log_reg3_results = compute_metrics(log_reg3, X_train_balanced, y_train_balanced, X_test_processed, y_test, scorer=scorer, model_name=\"Logistic Regression 2 (SMOTE)\")"
   ],
   "outputs": [],
   "execution_count": null
  },
  {
   "cell_type": "code",
   "metadata": {},
   "source": [
    "results2 = pd.concat([results2, log_reg3_results], axis=0)"
   ],
   "outputs": [],
   "execution_count": null
  },
  {
   "cell_type": "markdown",
   "metadata": {},
   "source": [
    "## Random Forest"
   ]
  },
  {
   "cell_type": "markdown",
   "metadata": {},
   "source": [
    "### BayesSearchCV"
   ]
  },
  {
   "cell_type": "code",
   "metadata": {},
   "source": [
    "# DO NOT RUN THIS CODE CELL AS IT TAKES MORE THAN 10 HOURS TO RUN!\n",
    "\n",
    "# defining the parameter space for the Bayesian Optimization based on the above comments\n",
    "param_space = {\n",
    "    'bootstrap': [True, False],\n",
    "    'class_weight': [None, 'balanced'],\n",
    "    'max_depth': (11, 18),  # around 15\n",
    "    'max_features': ['sqrt', 'log2', 0.12, 0.13, 0.14, 0.15, 0.16, 0.17, 0.18, 0.19, 0.2],  # Nur die gefundenen Werte\n",
    "    'min_samples_leaf': (2, 8),  # 2 to 8\n",
    "    'min_samples_split': (2, 9),  # 2 to 9\n",
    "    'n_estimators': (450, 950),  # values between 450 and 950\n",
    "}\n",
    "\n",
    "# StratifiedKFold for cross-validation\n",
    "cv = StratifiedKFold(n_splits=5, shuffle=True, random_state=74)\n",
    "\n",
    "# build the model\n",
    "forest_bs = RandomForestClassifier(random_state=42)\n",
    "\n",
    "# BayesSearchCV\n",
    "bayes_search = BayesSearchCV(\n",
    "    estimator=forest_bs,\n",
    "    search_spaces=param_space,\n",
    "    n_iter=70,  # number of iterations\n",
    "    scoring='roc_auc',  # ROC-AUC as metric\n",
    "    cv=cv, # StratifiedKFold as before\n",
    "    n_jobs=1, # set to 1 because parallel processing with bayesian optimization can cause issues\n",
    "    verbose=2, # show progress\n",
    "    random_state=42 # for reproducibility\n",
    ")\n",
    "\n",
    "# Training\n",
    "bayes_search.fit(X_train_processed, y_train)\n",
    "\n",
    "# results\n",
    "print(\"Beste Hyperparameter aus BayesSearchCV:\", bayes_search.best_params_)"
   ],
   "outputs": [],
   "execution_count": null
  },
  {
   "cell_type": "markdown",
   "metadata": {},
   "source": [
    "## XGBoost (Gradient-Boosting)"
   ]
  },
  {
   "cell_type": "markdown",
   "metadata": {},
   "source": [
    "### BayesSearchCV"
   ]
  },
  {
   "cell_type": "code",
   "metadata": {},
   "source": [
    "# parameter space for BayesSearchCV\n",
    "param_space = {\n",
    "    'booster': ['gbtree'],  # only 'gbtree' is used\n",
    "    'colsample_bytree': Real(0.87, 0.995, prior='uniform'),  # range: 0.87 - 0.995\n",
    "    'gamma': Real(0.014, 0.15, prior='uniform'),  # range: 0.014 - 0.15\n",
    "    'learning_rate': Real(0.01, 0.06, prior='uniform'),  # range: 0.01 - 0.06\n",
    "    'max_depth': Integer(3, 6),  # range: 3 - 6\n",
    "    'min_child_weight': Integer(3, 8),  # range: 3 - 8\n",
    "    'n_estimators': Integer(490, 760),  # range: 490 - 760\n",
    "    'reg_alpha': Real(0.0002, 0.18, prior='uniform'),  # reange: 0.0002 - 0.18\n",
    "    'reg_lambda': Real(0.05, 0.3, prior='uniform'),  # range: 0.05 - 0.3\n",
    "    'scale_pos_weight': Integer(1, 5),  # range: 1 - 5\n",
    "    'subsample': Real(0.78, 0.985, prior='uniform')  # range: 0.78 - 0.985\n",
    "}\n",
    "\n",
    "# define Basismodel\n",
    "xgb_model = xgb.XGBClassifier(random_state=42)\n",
    "\n",
    "# StratifiedKFold for cross-validation\n",
    "cv = StratifiedKFold(n_splits=5, shuffle=True, random_state=42)\n",
    "\n",
    "# create BayesSearchCV\n",
    "bayes_search_xgb = BayesSearchCV(estimator=xgb_model,\n",
    "                                search_spaces=param_space,\n",
    "                                n_iter=70,  # number of random configuration that will be tested\n",
    "                                cv=cv,  # StratifiedKFold as before\n",
    "                                scoring='roc_auc',  # ROC-AUC as metric\n",
    "                                n_jobs=1,  # set to 1 because parallel processing with bayesian optimization can cause issues\n",
    "                                random_state=42,  # reproducibility\n",
    "                                verbose=2,  # show progress\n",
    "                                )\n",
    "\n",
    "# fit BayesSearchCV on Train data\n",
    "bayes_search_xgb.fit(X_train_processed, y_train)\n",
    "\n",
    "# print best parameters\n",
    "print(\"Beste Parameter aus BayesSearchCV:\", bayes_search_xgb.best_params_)"
   ],
   "outputs": [],
   "execution_count": null
  },
  {
   "cell_type": "markdown",
   "metadata": {},
   "source": [
    "Wir haben folgende Hyperparemter gefunden:\n",
    "\n",
    "Beste Parameter aus BayesSearchCV: OrderedDict({'booster': 'gbtree', 'colsample_bytree': 0.995, 'gamma': 0.014, 'learning_rate': 0.04944699914723699, 'max_depth': 6, 'min_child_weight': 3, 'n_estimators': 760, 'reg_alpha': 0.18, 'reg_lambda': 0.3, 'scale_pos_weight': 1, 'subsample': 0.78})"
   ]
  },
  {
   "cell_type": "code",
   "metadata": {},
   "source": [
    "# best Hyperparameters from BayesSearchCV\n",
    "best_params1 = {\n",
    "    'booster': 'gbtree',\n",
    "    'colsample_bytree': 0.995,\n",
    "    'gamma': 0.014,\n",
    "    'learning_rate': 0.04944699914723699,\n",
    "    'max_depth': 6,\n",
    "    'min_child_weight': 3,\n",
    "    'n_estimators': 760,\n",
    "    'reg_alpha': 0.18,\n",
    "    'reg_lambda': 0.3,\n",
    "    'scale_pos_weight': 1,\n",
    "    'subsample': 0.78\n",
    "}\n",
    "\n",
    "# Define XGBClassifier-Model with the best Hyperparameters\n",
    "xgb_model_1 = xgb.XGBClassifier(\n",
    "    random_state=42,  # Same random state for reproducibility\n",
    "    **best_params1  # Add the best hyperparameters\n",
    ")"
   ],
   "outputs": [],
   "execution_count": null
  },
  {
   "cell_type": "code",
   "metadata": {},
   "source": [
    "xgb_1_scores = compute_metrics(xgb_model_1, X_train_processed, y_train, X_test_processed, y_test, scorer=scorer, model_name=\"XGBClassifier 1 (BayesSearchCV)\")"
   ],
   "outputs": [],
   "execution_count": null
  },
  {
   "cell_type": "code",
   "metadata": {},
   "source": [
    "results2 = pd.concat([results2, xgb_1_scores], axis=0)"
   ],
   "outputs": [],
   "execution_count": null
  },
  {
   "cell_type": "code",
   "metadata": {},
   "source": [
    "results2"
   ],
   "outputs": [],
   "execution_count": null
  },
  {
   "cell_type": "code",
   "metadata": {},
   "source": [
    "# parameter space for BayesSearchCV\n",
    "param_space = {\n",
    "    'booster': ['gbtree'],  # only 'gbtree' is used\n",
    "    'colsample_bytree': Real(0.87, 0.995, prior='uniform'),  # range: 0.87 - 0.995\n",
    "    'gamma': Real(0.014, 0.15, prior='uniform'),  # range: 0.014 - 0.15\n",
    "    'learning_rate': Real(0.01, 0.06, prior='uniform'),  # range: 0.01 - 0.06\n",
    "    'max_depth': Integer(3, 6),  # range: 3 - 6\n",
    "    'min_child_weight': Integer(3, 8),  # range: 3 - 8\n",
    "    'n_estimators': Integer(490, 760),  # range: 490 - 760\n",
    "    'reg_alpha': Real(0.0002, 0.18, prior='uniform'),  # reange: 0.0002 - 0.18\n",
    "    'reg_lambda': Real(0.05, 0.3, prior='uniform'),  # range: 0.05 - 0.3\n",
    "    'scale_pos_weight': Integer(1, 5),  # range: 1 - 5\n",
    "    'subsample': Real(0.78, 0.985, prior='uniform')  # range: 0.78 - 0.985\n",
    "}\n",
    "\n",
    "# define Basismodel\n",
    "xgb_model = xgb.XGBClassifier(random_state=42)\n",
    "\n",
    "# StratifiedKFold for cross-validation\n",
    "cv = StratifiedKFold(n_splits=5, shuffle=True, random_state=42)\n",
    "\n",
    "# create BayesSearchCV\n",
    "bayes_search_xgb = BayesSearchCV(estimator=xgb_model,\n",
    "                                search_spaces=param_space,\n",
    "                                n_iter=70,  # number of random configuration that will be tested\n",
    "                                cv=cv,  # StratifiedKFold as before\n",
    "                                scoring='roc_auc',  # ROC-AUC as metric\n",
    "                                n_jobs=1,  # set to 1 because parallel processing with bayesian optimization can cause issues\n",
    "                                random_state=42,  # reproducibility\n",
    "                                verbose=2,  # show progress\n",
    "                                )\n",
    "\n",
    "# fit BayesSearchCV on Train data\n",
    "bayes_search_xgb.fit(X_train_balanced, y_train_balanced)\n",
    "\n",
    "# print best parameters\n",
    "print(\"Beste Parameter aus BayesSearchCV:\", bayes_search_xgb.best_params_)"
   ],
   "outputs": [],
   "execution_count": null
  },
  {
   "cell_type": "markdown",
   "metadata": {},
   "source": [
    "Beste Parameter aus BayesSearchCV: OrderedDict({'booster': 'gbtree', 'colsample_bytree': 0.995, 'gamma': 0.15, 'learning_rate': 0.06, 'max_depth': 6, 'min_child_weight': 3, 'n_estimators': 760, 'reg_alpha': 0.02276324530745919, 'reg_lambda': 0.28188981298566596, 'scale_pos_weight': 1, 'subsample': 0.78})"
   ]
  },
  {
   "cell_type": "code",
   "metadata": {},
   "source": [
    "# best Hyperparameters from BayesSearchCV\n",
    "best_params2 = {\n",
    "    'booster': 'gbtree',\n",
    "    'colsample_bytree': 0.995,\n",
    "    'gamma': 0.15,\n",
    "    'learning_rate': 0.06,\n",
    "    'max_depth': 6,\n",
    "    'min_child_weight': 3,\n",
    "    'n_estimators': 760,\n",
    "    'reg_alpha': 0.02276324530745919,\n",
    "    'reg_lambda': 0.28188981298566596,\n",
    "    'scale_pos_weight': 1,\n",
    "    'subsample': 0.78\n",
    "}\n",
    "\n",
    "# Define XGBClassifier-Model with the best Hyperparameters\n",
    "xgb_model_2 = xgb.XGBClassifier(\n",
    "    random_state=42,  # Same random state for reproducibility\n",
    "    **best_params2  # Add the best hyperparameters\n",
    ")"
   ],
   "outputs": [],
   "execution_count": null
  },
  {
   "cell_type": "code",
   "metadata": {},
   "source": [
    "xgb_2_scores = compute_metrics(xgb_model_2, X_train_balanced, y_train_balanced, X_test_processed, y_test, scorer=scorer, model_name=\"XGBClassifier 2 (SMOTE)\")"
   ],
   "outputs": [],
   "execution_count": null
  },
  {
   "cell_type": "code",
   "metadata": {},
   "source": [
    "results2 = pd.concat([results2, xgb_2_scores], axis=0)"
   ],
   "outputs": [],
   "execution_count": null
  },
  {
   "cell_type": "code",
   "metadata": {},
   "source": [
    "results2"
   ],
   "outputs": [],
   "execution_count": null
  },
  {
   "cell_type": "markdown",
   "metadata": {},
   "source": [
    "# Neues Herangehensweise"
   ]
  },
  {
   "cell_type": "code",
   "metadata": {},
   "source": [],
   "outputs": [],
   "execution_count": null
  },
  {
   "cell_type": "code",
   "metadata": {},
   "source": [],
   "outputs": [],
   "execution_count": null
  }
 ],
 "metadata": {
  "colab": {
   "provenance": []
  },
  "kernelspec": {
   "display_name": "Python 3",
   "language": "python",
   "name": "python3"
  },
  "language_info": {
   "codemirror_mode": {
    "name": "ipython",
    "version": 3
   },
   "file_extension": ".py",
   "mimetype": "text/x-python",
   "name": "python",
   "nbconvert_exporter": "python",
   "pygments_lexer": "ipython3",
   "version": "3.12.5"
  }
 },
 "nbformat": 4,
 "nbformat_minor": 0
}
